{
  "nbformat": 4,
  "nbformat_minor": 0,
  "metadata": {
    "colab": {
      "provenance": [],
      "authorship_tag": "ABX9TyMy9YkjD8uAZbWEZEdYZ8Pu",
      "include_colab_link": true
    },
    "kernelspec": {
      "name": "python3",
      "display_name": "Python 3"
    },
    "language_info": {
      "name": "python"
    }
  },
  "cells": [
    {
      "cell_type": "markdown",
      "metadata": {
        "id": "view-in-github",
        "colab_type": "text"
      },
      "source": [
        "<a href=\"https://colab.research.google.com/github/StephenJohnson-CardiffUni/Astro/blob/main/GalaxiesAssignment.ipynb\" target=\"_parent\"><img src=\"https://colab.research.google.com/assets/colab-badge.svg\" alt=\"Open In Colab\"/></a>"
      ]
    },
    {
      "cell_type": "code",
      "execution_count": 10,
      "metadata": {
        "id": "yMzctxjJ3zLx"
      },
      "outputs": [],
      "source": [
        "import numpy as np\n",
        "from scipy.integrate import quad\n",
        "from scipy import integrate\n",
        "import matplotlib.pyplot as plt\n",
        "\n"
      ]
    },
    {
      "cell_type": "code",
      "source": [
        "initialMass = 1e11 #10^11 is 1e11 in this system\n",
        "print(initialMass)"
      ],
      "metadata": {
        "colab": {
          "base_uri": "https://localhost:8080/"
        },
        "id": "Db0OHI0g5rrF",
        "outputId": "95b55747-b557-4a61-9a05-e3cc798d5202"
      },
      "execution_count": 11,
      "outputs": [
        {
          "output_type": "stream",
          "name": "stdout",
          "text": [
            "100000000000.0\n"
          ]
        }
      ]
    },
    {
      "cell_type": "code",
      "source": [
        "from re import X\n",
        "#Constants\n",
        "SolarLumin = 3.828e26  # Solar luminosity in watts\n",
        "SolarM = 2e30  # Solar mass in kilograms\n",
        "\n",
        "# Assuming a lower limit of 0.5 solar masses and an upper limit of 100 solar masses\n",
        "M_min = 0.5\n",
        "M_max = 1000\n",
        "\n",
        "\n",
        "def luminosity_func(M): #Takes mass in Kg, returns luminosity scalled by mass\n",
        "  return SolarLumin*( (M/SolarM) **3.9)\n",
        "\n",
        "def lifeTime_func(M): #Take Mass in Kg, returns lifetime on main sequence\n",
        "  return 1e9 * (M/SolarM)**-2.5\n",
        "\n",
        "def Mcrit(t): #Takes time in years, returns mass of stars whos life time is equal to this (the ones just dying in a galaxy t old)\n",
        "  return ((10e9/t)**1/25)*SolarM\n",
        "\n",
        "def IMFconst(MassTot):\n",
        "  return MassTot / (integrate(X**-1.35,0.5,100))\n"
      ],
      "metadata": {
        "id": "rSj1GBSu4l90"
      },
      "execution_count": 18,
      "outputs": []
    },
    {
      "cell_type": "code",
      "source": [
        "print(IMFconst(1e9))"
      ],
      "metadata": {
        "colab": {
          "base_uri": "https://localhost:8080/",
          "height": 228
        },
        "id": "_yMqofRhPKoS",
        "outputId": "d4adbe1b-5672-4f22-c834-b71bd6f0329f"
      },
      "execution_count": 17,
      "outputs": [
        {
          "output_type": "error",
          "ename": "TypeError",
          "evalue": "'module' object is not callable",
          "traceback": [
            "\u001b[0;31m---------------------------------------------------------------------------\u001b[0m",
            "\u001b[0;31mTypeError\u001b[0m                                 Traceback (most recent call last)",
            "\u001b[0;32m<ipython-input-17-f34cc9677bcc>\u001b[0m in \u001b[0;36m<cell line: 1>\u001b[0;34m()\u001b[0m\n\u001b[0;32m----> 1\u001b[0;31m \u001b[0mprint\u001b[0m\u001b[0;34m(\u001b[0m\u001b[0mIMFconst\u001b[0m\u001b[0;34m(\u001b[0m\u001b[0;36m1e9\u001b[0m\u001b[0;34m)\u001b[0m\u001b[0;34m)\u001b[0m\u001b[0;34m\u001b[0m\u001b[0;34m\u001b[0m\u001b[0m\n\u001b[0m",
            "\u001b[0;32m<ipython-input-16-055d8ac3ec08>\u001b[0m in \u001b[0;36mIMFconst\u001b[0;34m(MassTot)\u001b[0m\n\u001b[1;32m     19\u001b[0m \u001b[0;34m\u001b[0m\u001b[0m\n\u001b[1;32m     20\u001b[0m \u001b[0;32mdef\u001b[0m \u001b[0mIMFconst\u001b[0m\u001b[0;34m(\u001b[0m\u001b[0mMassTot\u001b[0m\u001b[0;34m)\u001b[0m\u001b[0;34m:\u001b[0m\u001b[0;34m\u001b[0m\u001b[0;34m\u001b[0m\u001b[0m\n\u001b[0;32m---> 21\u001b[0;31m   \u001b[0;32mreturn\u001b[0m \u001b[0mMassTot\u001b[0m \u001b[0;34m/\u001b[0m \u001b[0;34m(\u001b[0m\u001b[0mintegrate\u001b[0m\u001b[0;34m(\u001b[0m\u001b[0mX\u001b[0m\u001b[0;34m**\u001b[0m\u001b[0;34m-\u001b[0m\u001b[0;36m1.35\u001b[0m\u001b[0;34m,\u001b[0m\u001b[0;36m0.5\u001b[0m\u001b[0;34m,\u001b[0m\u001b[0;36m100\u001b[0m\u001b[0;34m)\u001b[0m\u001b[0;34m)\u001b[0m\u001b[0;34m\u001b[0m\u001b[0;34m\u001b[0m\u001b[0m\n\u001b[0m",
            "\u001b[0;31mTypeError\u001b[0m: 'module' object is not callable"
          ]
        }
      ]
    },
    {
      "cell_type": "code",
      "source": [
        "import numpy as np\n",
        "from scipy.integrate import quad\n",
        "import matplotlib.pyplot as plt\n",
        "\n",
        "# Constants\n",
        "M_cloud = 1e11  # Mass of the gas cloud in solar masses\n",
        "t_collapse = 1e9  # Time it takes for the gas cloud to collapse in years\n",
        "t_universe = 12e9  # Age of the universe in years\n",
        "SFR = M_cloud / t_collapse  # Star Formation Rate (SFR) in solar masses per year\n",
        "\n",
        "# Salpeter IMF parameters\n",
        "alpha = 2.35  # Power-law exponent of the Salpeter IMF\n",
        "\n",
        "# Solar luminosity in watts and solar mass in kilograms\n",
        "SolarLumin = 3.828e26  # Solar luminosity in watts\n",
        "SolarM = 2e30  # Solar mass in kilograms\n",
        "\n",
        "# Define the Salpeter IMF function with normalization constant A\n",
        "def salpeter_imf(M, A):\n",
        "    return A * M**(-alpha)\n",
        "\n",
        "# Integrate the Salpeter IMF to find the normalization constant A\n",
        "def find_normalization_constant(M_min, M_max):\n",
        "    return quad(salpeter_imf, M_min, M_max, args=(1,))[0]\n",
        "\n",
        "# Assuming a lower limit of 0.5 solar masses and an upper limit of 100 solar masses\n",
        "M_min = 0.5\n",
        "M_max = 1000\n",
        "\n",
        "# Calculate the normalization constant A\n",
        "A = M_cloud / find_normalization_constant(M_min, M_max)\n",
        "\n",
        "print(\"Normalization constant A:\", A)\n",
        "\n",
        "# Calculate the total number of stars formed\n",
        "total_stars = A * find_normalization_constant(M_min, M_max)\n",
        "\n",
        "print(\"Total number of stars formed:\", total_stars)\n",
        "\n",
        "# Define the luminosity function\n",
        "def luminosity_function(M):\n",
        "    return SolarLumin * (M / SolarM)**3.9\n",
        "\n",
        "# Calculate the total luminosity of all stars formed\n",
        "total_luminosity = 0\n",
        "masses = np.linspace(M_min, M_max, num=1000)\n",
        "imf_values = []\n",
        "for mass in masses:\n",
        "    luminosity = luminosity_function(mass)\n",
        "    total_luminosity += luminosity * salpeter_imf(mass, A)  # Multiply by the IMF\n",
        "    # Here, we multiply by the IMF value to account for the number of stars of this mass\n",
        "    imf_values.append(salpeter_imf(mass, A))\n",
        "\n",
        "print(\"Total luminosity of all stars formed:\", total_luminosity)\n",
        "\n",
        "# Plot the Initial Mass Function\n",
        "plt.plot(masses, imf_values)\n",
        "plt.xlabel('Stellar Mass (Solar Masses)')\n",
        "plt.ylabel('IMF')\n",
        "plt.title('Salpeter Initial Mass Function')\n",
        "plt.xscale('log')\n",
        "plt.yscale('log')\n",
        "plt.show()\n",
        "\n"
      ],
      "metadata": {
        "colab": {
          "base_uri": "https://localhost:8080/",
          "height": 528
        },
        "id": "VWWXdbaqjiRE",
        "outputId": "08da4788-89fb-447a-8ed1-03b05360e737"
      },
      "execution_count": 7,
      "outputs": [
        {
          "output_type": "stream",
          "name": "stdout",
          "text": [
            "Normalization constant A: 52959509317.161804\n",
            "Total number of stars formed: 100000000000.0\n",
            "Total luminosity of all stars formed: 8.443061695313631e-73\n"
          ]
        },
        {
          "output_type": "display_data",
          "data": {
            "text/plain": [
              "<Figure size 640x480 with 1 Axes>"
            ],
            "image/png": "[encoded data removed]"
          },
          "metadata": {}
        }
      ]
    }
  ]
}
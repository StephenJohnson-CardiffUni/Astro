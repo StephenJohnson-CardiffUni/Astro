{
  "nbformat": 4,
  "nbformat_minor": 0,
  "metadata": {
    "colab": {
      "provenance": [],
      "authorship_tag": "ABX9TyMABOuT13WRQ2tUV5pdeeqg",
      "include_colab_link": true
    },
    "kernelspec": {
      "name": "python3",
      "display_name": "Python 3"
    },
    "language_info": {
      "name": "python"
    }
  },
  "cells": [
    {
      "cell_type": "markdown",
      "metadata": {
        "id": "view-in-github",
        "colab_type": "text"
      },
      "source": [
        "<a href=\"https://colab.research.google.com/github/StephenJohnson-CardiffUni/Astro/blob/main/CondensedAssignment2.ipynb\" target=\"_parent\"><img src=\"https://colab.research.google.com/assets/colab-badge.svg\" alt=\"Open In Colab\"/></a>"
      ]
    },
    {
      "cell_type": "code",
      "execution_count": 2,
      "metadata": {
        "id": "dFhpj8Afk9UH"
      },
      "outputs": [],
      "source": [
        "import numpy as np\n",
        "import scipy.constants as consts\n",
        "\n",
        "\n",
        "'''Einstein Model : Cmol(T) = 3R ( ((ΘE/T)**2) * (e**(ΘE/T)) /  ((e**(ΘE/T)) − 1)**2 ) '''\n",
        "\n",
        "tempratures = np.array([[]for x in range(100)])\n",
        "\n",
        "heatCapacities = np.array([[]for x in range(100)])\n",
        "\n",
        "def EinsteinCaps(tempratures):\n",
        "\n",
        "  return 3 * consts.R * ( ((700/tempratures)**2) * (consts.e**(700/tempratures)) / (((consts.e**(700/tempratures)) - 1)**2)  )\n",
        "\n"
      ]
    },
    {
      "cell_type": "code",
      "source": [],
      "metadata": {
        "id": "MM7RfRpMmKm-"
      },
      "execution_count": null,
      "outputs": []
    }
  ]
}
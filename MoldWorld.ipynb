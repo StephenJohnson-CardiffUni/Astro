{
  "nbformat": 4,
  "nbformat_minor": 0,
  "metadata": {
    "colab": {
      "provenance": [],
      "authorship_tag": "ABX9TyOWGp/GwpylLR9vpAIdTuvY",
      "include_colab_link": true
    },
    "kernelspec": {
      "name": "python3",
      "display_name": "Python 3"
    },
    "language_info": {
      "name": "python"
    }
  },
  "cells": [
    {
      "cell_type": "markdown",
      "metadata": {
        "id": "view-in-github",
        "colab_type": "text"
      },
      "source": [
        "<a href=\"https://colab.research.google.com/github/StephenJohnson-CardiffUni/Astro/blob/main/MoldWorld.ipynb\" target=\"_parent\"><img src=\"https://colab.research.google.com/assets/colab-badge.svg\" alt=\"Open In Colab\"/></a>"
      ]
    },
    {
      "cell_type": "markdown",
      "source": [
        "\n",
        "Mold world\n",
        "\n",
        "Cellular world, large grid\n",
        "\n",
        "\"Living cell\" has DNA, A list of genes. Each gene has a list of 4 numbers, one for each cardianl direction\n",
        "The number dictates what gene the new cell that is to be grown in the given direction will be expressing\n",
        "\n",
        "make cell\n",
        "read active gene\n",
        "grow new cells - mutate?\n",
        "\n",
        "^^MVP^^\n",
        "\n",
        "Later ideas, energy costs to life and ways to \"eat\"\n"
      ],
      "metadata": {
        "id": "eM7AIg4NxV80"
      }
    },
    {
      "cell_type": "code",
      "source": [
        "import numpy as np\n",
        "import matplotlib.pyplot as plt\n",
        "import copy"
      ],
      "metadata": {
        "id": "ZpUzkn58xSqM"
      },
      "execution_count": 1,
      "outputs": []
    },
    {
      "cell_type": "code",
      "source": [
        "'''Entity Classes'''\n",
        "\n",
        "class Cell:\n",
        "  def __init__(self, NumberOfGenes=10, ExpressedGene = 0, colour=np.random.randint(10)):\n",
        "    self.DNA = DNA(NumberOfGenes)\n",
        "    if ExpressedGene == 0: self.ExpressedGene = np.random.randint(NumberOfGenes)\n",
        "    self.colour = colour\n",
        "\n",
        "class DNA:\n",
        "  def __init__(self, NumberOfGenes):\n",
        "    self.Genes = np.random.randint(0,high=NumberOfGenes,size=(NumberOfGenes,4))\n"
      ],
      "metadata": {
        "id": "FQZP6FyruAgf"
      },
      "execution_count": 2,
      "outputs": []
    },
    {
      "cell_type": "code",
      "source": [
        "'''Create world'''\n",
        "\n",
        "worldWidth = 30\n",
        "worldHeight = 50\n",
        "\n",
        "World = [[0 for i in range(worldHeight)] for j in range(worldWidth)]\n",
        "\n"
      ],
      "metadata": {
        "id": "bhBnBHk3wlPW"
      },
      "execution_count": 3,
      "outputs": []
    },
    {
      "cell_type": "code",
      "source": [
        "#Just some cells to play with\n",
        " \n",
        "# World[np.random.randint(worldWidth)][np.random.randint(worldHeight)] = Cell(colour=2)\n",
        "\n",
        "# World[np.random.randint(worldWidth)][np.random.randint(worldHeight)] = Cell(colour=5)\n",
        "\n",
        "# World[np.random.randint(worldWidth)][np.random.randint(worldHeight)] = Cell(colour=7)\n",
        "\n",
        "CulturePopulation = 10\n",
        "\n",
        "for i in range(CulturePopulation):\n",
        "  World[np.random.randint(worldWidth)][np.random.randint(worldHeight)] = Cell()\n"
      ],
      "metadata": {
        "id": "JdYcVvmVy0R8"
      },
      "execution_count": 4,
      "outputs": []
    },
    {
      "cell_type": "code",
      "source": [
        "'''how to display the world? find something better'''\n",
        "\n",
        "\n",
        "WorldVisual = copy.deepcopy(World)\n",
        "\n",
        "\n",
        "for x in range(len(WorldVisual)):\n",
        "  for y in range(len(WorldVisual[0])):\n",
        "    #replace cells with colour number in new list\n",
        "    if isinstance(WorldVisual[x][y],Cell):\n",
        "      WorldVisual[x][y] = WorldVisual[x][y].colour\n",
        "      \n",
        "      \n",
        "\n"
      ],
      "metadata": {
        "id": "fCdjkgO731EA"
      },
      "execution_count": 5,
      "outputs": []
    },
    {
      "cell_type": "code",
      "source": [
        "plt.matshow(WorldVisual)"
      ],
      "metadata": {
        "id": "hP7AfQey34bL",
        "outputId": "be3def3b-c8ba-4a77-89a7-e2aa6c1a0ead",
        "colab": {
          "base_uri": "https://localhost:8080/",
          "height": 292
        }
      },
      "execution_count": 7,
      "outputs": [
        {
          "output_type": "execute_result",
          "data": {
            "text/plain": [
              "<matplotlib.image.AxesImage at 0x7eff345e4a00>"
            ]
          },
          "metadata": {},
          "execution_count": 7
        },
        {
          "output_type": "display_data",
          "data": {
            "text/plain": [
              "<Figure size 480x288 with 1 Axes>"
            ],
            "image/png": "[encoded data removed]"
          },
          "metadata": {
            "needs_background": "light"
          }
        }
      ]
    },
    {
      "cell_type": "code",
      "source": [
        "'''stolen from stack exchange'''\n",
        "\n",
        "from  matplotlib.animation import FuncAnimation\n",
        "\n",
        "\n",
        "n_frames = 100\n",
        "\n",
        "\n",
        "fig = plt.figure()\n",
        "plot =plt.matshow(data[0], fignum=0)\n",
        "\n",
        "def init():\n",
        "    plot.set_data(data[0])\n",
        "    return plot\n",
        "\n",
        "def update(j):\n",
        "    plot.set_data(data[j])\n",
        "    return [plot]\n",
        "\n",
        "\n",
        "anim = FuncAnimation(fig, update, init_func = init, frames=n_frames, interval = 30, blit=True)\n",
        "\n",
        "plt.show()"
      ],
      "metadata": {
        "id": "U98MsU_EFufQ"
      },
      "execution_count": 6,
      "outputs": []
    }
  ]
}
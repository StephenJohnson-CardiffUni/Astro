{
  "nbformat": 4,
  "nbformat_minor": 0,
  "metadata": {
    "colab": {
      "provenance": [],
      "authorship_tag": "ABX9TyOrtEwWAgms2pFWBpRD4M9c",
      "include_colab_link": true
    },
    "kernelspec": {
      "name": "python3",
      "display_name": "Python 3"
    },
    "language_info": {
      "name": "python"
    }
  },
  "cells": [
    {
      "cell_type": "markdown",
      "metadata": {
        "id": "view-in-github",
        "colab_type": "text"
      },
      "source": [
        "<a href=\"https://colab.research.google.com/github/StephenJohnson-CardiffUni/Astro/blob/main/MoldWorld.ipynb\" target=\"_parent\"><img src=\"https://colab.research.google.com/assets/colab-badge.svg\" alt=\"Open In Colab\"/></a>"
      ]
    },
    {
      "cell_type": "markdown",
      "source": [
        "\n",
        "Mold world\n",
        "\n",
        "Cellular world, large grid\n",
        "\n",
        "\"Living cell\" has DNA, A list of genes. Each gene has a list of 4 numbers, one for each cardianl direction\n",
        "The number dictates what gene the new cell that is to be grown in the given direction will be expressing\n",
        "\n",
        "make cell\n",
        "read active gene\n",
        "grow new cells - mutate?\n",
        "\n",
        "^^MVP^^\n",
        "\n",
        "Later ideas, energy costs to life and ways to \"eat\"\n"
      ],
      "metadata": {
        "id": "eM7AIg4NxV80"
      }
    },
    {
      "cell_type": "code",
      "source": [
        "import numpy as np"
      ],
      "metadata": {
        "id": "ZpUzkn58xSqM"
      },
      "execution_count": 1,
      "outputs": []
    },
    {
      "cell_type": "code",
      "source": [
        "'''Entity Classes'''\n",
        "\n",
        "class DNA:\n",
        "  def __init__(self, NumberOfGenes,):\n",
        "    self.Genes = np.random.randint(0,high=NumberOfGenes,size=(NumberOfGenes,4))\n",
        "\n",
        "\n",
        "class Cell:\n",
        "  def __init__(self, NumberOfGenes=10):\n",
        "    self.DNA = DNA(NumberOfGenes)\n",
        "  "
      ],
      "metadata": {
        "id": "FQZP6FyruAgf"
      },
      "execution_count": 2,
      "outputs": []
    },
    {
      "cell_type": "code",
      "source": [
        "'''Create world'''\n",
        "\n",
        "worldWidth = 3\n",
        "worldHeight = 5\n",
        "\n",
        "World = [[0 for i in range(worldHeight)] for j in range(worldWidth)]\n",
        "\n"
      ],
      "metadata": {
        "id": "bhBnBHk3wlPW"
      },
      "execution_count": 3,
      "outputs": []
    },
    {
      "cell_type": "code",
      "source": [
        "GrandPappy = Cell()\n",
        "World[np.random.randint(worldWidth)][np.random.randint(worldHeight)] = GrandPappy\n",
        "\n",
        "Gramps = Cell()\n",
        "World[np.random.randint(worldWidth)][np.random.randint(worldHeight)] = Gramps\n",
        "\n",
        "OldOne = Cell()\n",
        "World[np.random.randint(worldWidth)][np.random.randint(worldHeight)] = OldOne"
      ],
      "metadata": {
        "id": "JdYcVvmVy0R8"
      },
      "execution_count": 4,
      "outputs": []
    },
    {
      "cell_type": "code",
      "source": [
        "print(World)"
      ],
      "metadata": {
        "colab": {
          "base_uri": "https://localhost:8080/"
        },
        "id": "fCdjkgO731EA",
        "outputId": "f878a593-2e2d-4e14-99d1-4c79dc988fa3"
      },
      "execution_count": 5,
      "outputs": [
        {
          "output_type": "stream",
          "name": "stdout",
          "text": [
            "[[0, 0, 0, 0, <__main__.Cell object at 0x7f949a62ef40>], [0, 0, 0, 0, 0], [0, 0, <__main__.Cell object at 0x7f949a62ec70>, 0, 0]]\n"
          ]
        }
      ]
    },
    {
      "cell_type": "code",
      "source": [],
      "metadata": {
        "id": "hP7AfQey34bL"
      },
      "execution_count": 5,
      "outputs": []
    }
  ]
}
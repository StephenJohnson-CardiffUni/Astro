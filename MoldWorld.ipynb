{
  "nbformat": 4,
  "nbformat_minor": 0,
  "metadata": {
    "colab": {
      "provenance": [],
      "authorship_tag": "ABX9TyNXjaDpFmT6Sb+Yen4SbAd/",
      "include_colab_link": true
    },
    "kernelspec": {
      "name": "python3",
      "display_name": "Python 3"
    },
    "language_info": {
      "name": "python"
    }
  },
  "cells": [
    {
      "cell_type": "markdown",
      "metadata": {
        "id": "view-in-github",
        "colab_type": "text"
      },
      "source": [
        "<a href=\"https://colab.research.google.com/github/StephenJohnson-CardiffUni/Astro/blob/main/MoldWorld.ipynb\" target=\"_parent\"><img src=\"https://colab.research.google.com/assets/colab-badge.svg\" alt=\"Open In Colab\"/></a>"
      ]
    },
    {
      "cell_type": "markdown",
      "source": [
        "\n",
        "Mold world\n",
        "\n",
        "Cellular world, large grid\n",
        "\n",
        "\"Living cell\" has DNA, A list of genes. Each gene has a list of 4 numbers, one for each cardianl direction\n",
        "The number dictates what gene the new cell that is to be grown in the given direction will be expressing\n",
        "\n",
        "make cell\n",
        "read active gene\n",
        "grow new cells - mutate?\n",
        "\n",
        "^^MVP^^\n",
        "\n",
        "Later ideas, energy costs to life and ways to \"eat\"\n"
      ],
      "metadata": {
        "id": "eM7AIg4NxV80"
      }
    },
    {
      "cell_type": "code",
      "source": [
        "import numpy as np\n",
        "import matplotlib.pyplot as plt\n",
        "import copy"
      ],
      "metadata": {
        "id": "ZpUzkn58xSqM"
      },
      "execution_count": 1,
      "outputs": []
    },
    {
      "cell_type": "code",
      "source": [
        "'''Entity Classes'''\n",
        "\n",
        "class Cell:\n",
        "  def __init__(self, NumberOfGenes=10, ExpressedGene = 0, colour=np.random.randint(10)):\n",
        "    self.DNA = DNA(NumberOfGenes)\n",
        "    if ExpressedGene == 0: self.ExpressedGene = np.random.randint(NumberOfGenes)\n",
        "    self.colour = colour\n",
        "\n",
        "class DNA:\n",
        "  def __init__(self, NumberOfGenes):\n",
        "    self.Genes = np.random.randint(0,high=NumberOfGenes,size=(NumberOfGenes,4))\n"
      ],
      "metadata": {
        "id": "FQZP6FyruAgf"
      },
      "execution_count": 2,
      "outputs": []
    },
    {
      "cell_type": "code",
      "source": [
        "'''Create world'''\n",
        "\n",
        "worldWidth = 3\n",
        "worldHeight = 5\n",
        "\n",
        "World = [[0 for i in range(worldHeight)] for j in range(worldWidth)]\n",
        "\n"
      ],
      "metadata": {
        "id": "bhBnBHk3wlPW"
      },
      "execution_count": 3,
      "outputs": []
    },
    {
      "cell_type": "code",
      "source": [
        "#Just some cells to play with\n",
        "\n",
        "GrandPappy = Cell(colour=2)\n",
        "World[np.random.randint(worldWidth)][np.random.randint(worldHeight)] = GrandPappy\n",
        "\n",
        "Gramps = Cell(colour=5)\n",
        "World[np.random.randint(worldWidth)][np.random.randint(worldHeight)] = Gramps\n",
        "\n",
        "OldOne = Cell(colour=7)\n",
        "World[np.random.randint(worldWidth)][np.random.randint(worldHeight)] = OldOne"
      ],
      "metadata": {
        "id": "JdYcVvmVy0R8"
      },
      "execution_count": 4,
      "outputs": []
    },
    {
      "cell_type": "code",
      "source": [
        "'''how to display the world? find something better'''\n",
        "\n",
        "\n",
        "WorldVisual = copy.deepcopy(World)\n",
        "\n",
        "\n",
        "for x in WorldVisual:\n",
        "  for y in x:\n",
        "    #replace cells with colour number in new list\n",
        "    if isinstance(y,Cell):\n",
        "      print(y.colour)\n",
        "      #print(np.where(isinstance(y,Cell),y.colour, WorldVisual))\n",
        "      \n",
        "\n"
      ],
      "metadata": {
        "colab": {
          "base_uri": "https://localhost:8080/"
        },
        "id": "fCdjkgO731EA",
        "outputId": "12fb6895-6dd4-4039-f067-a750d71ee6fc"
      },
      "execution_count": 14,
      "outputs": [
        {
          "output_type": "stream",
          "name": "stdout",
          "text": [
            "7\n",
            "[[7 7 7 7 7]\n",
            " [7 7 7 7 7]\n",
            " [7 7 7 7 7]]\n",
            "2\n",
            "[[2 2 2 2 2]\n",
            " [2 2 2 2 2]\n",
            " [2 2 2 2 2]]\n",
            "5\n",
            "[[5 5 5 5 5]\n",
            " [5 5 5 5 5]\n",
            " [5 5 5 5 5]]\n"
          ]
        }
      ]
    },
    {
      "cell_type": "code",
      "source": [
        "print(WorldVisual)"
      ],
      "metadata": {
        "id": "hP7AfQey34bL",
        "outputId": "8571ba7b-8911-4ad0-9fe4-b0ab7405d54d",
        "colab": {
          "base_uri": "https://localhost:8080/"
        }
      },
      "execution_count": 6,
      "outputs": [
        {
          "output_type": "stream",
          "name": "stdout",
          "text": [
            "[[0, 0, 0, 0, <__main__.Cell object at 0x7fbc11f41a60>], [0, 0, <__main__.Cell object at 0x7fbc11f20be0>, 0, 0], [0, <__main__.Cell object at 0x7fbc11f201f0>, 0, 0, 0]]\n"
          ]
        }
      ]
    },
    {
      "cell_type": "code",
      "source": [
        "Gramps.ExpressedGene"
      ],
      "metadata": {
        "id": "mlT7aVUkwtMW",
        "outputId": "d9db6d69-a192-41c7-9d49-ed3445b0cf44",
        "colab": {
          "base_uri": "https://localhost:8080/"
        }
      },
      "execution_count": 7,
      "outputs": [
        {
          "output_type": "execute_result",
          "data": {
            "text/plain": [
              "5"
            ]
          },
          "metadata": {},
          "execution_count": 7
        }
      ]
    },
    {
      "cell_type": "code",
      "source": [
        "Gramps.DNA.Genes"
      ],
      "metadata": {
        "id": "4tgy7jI56Lpa",
        "outputId": "95e9ec21-1ae4-4642-d83b-0f2aa451cf49",
        "colab": {
          "base_uri": "https://localhost:8080/"
        }
      },
      "execution_count": 8,
      "outputs": [
        {
          "output_type": "execute_result",
          "data": {
            "text/plain": [
              "array([[3, 5, 0, 6],\n",
              "       [2, 5, 3, 0],\n",
              "       [9, 8, 4, 8],\n",
              "       [6, 5, 4, 2],\n",
              "       [0, 7, 3, 2],\n",
              "       [8, 1, 0, 8],\n",
              "       [1, 5, 2, 5],\n",
              "       [1, 8, 9, 1],\n",
              "       [2, 4, 2, 5],\n",
              "       [9, 2, 6, 4]])"
            ]
          },
          "metadata": {},
          "execution_count": 8
        }
      ]
    },
    {
      "cell_type": "code",
      "source": [
        "\n",
        "np.where(World == isinstance(y,Cell))"
      ],
      "metadata": {
        "id": "LpMKGyw372fW",
        "outputId": "b7fd1b33-956e-4425-919a-5f0cf368a5af",
        "colab": {
          "base_uri": "https://localhost:8080/",
          "height": 165
        }
      },
      "execution_count": 11,
      "outputs": [
        {
          "output_type": "error",
          "ename": "NameError",
          "evalue": "ignored",
          "traceback": [
            "\u001b[0;31m---------------------------------------------------------------------------\u001b[0m",
            "\u001b[0;31mNameError\u001b[0m                                 Traceback (most recent call last)",
            "\u001b[0;32m<ipython-input-11-9af5d0cc6a1b>\u001b[0m in \u001b[0;36m<module>\u001b[0;34m\u001b[0m\n\u001b[0;32m----> 1\u001b[0;31m \u001b[0mnp\u001b[0m\u001b[0;34m.\u001b[0m\u001b[0mwhere\u001b[0m\u001b[0;34m(\u001b[0m\u001b[0mWorld\u001b[0m \u001b[0;34m==\u001b[0m \u001b[0mistype\u001b[0m\u001b[0;34m(\u001b[0m\u001b[0mCell\u001b[0m\u001b[0;34m)\u001b[0m\u001b[0;34m)\u001b[0m\u001b[0;34m\u001b[0m\u001b[0;34m\u001b[0m\u001b[0m\n\u001b[0m",
            "\u001b[0;31mNameError\u001b[0m: name 'istype' is not defined"
          ]
        }
      ]
    },
    {
      "cell_type": "code",
      "source": [],
      "metadata": {
        "id": "S8LcyMY28FWd"
      },
      "execution_count": 9,
      "outputs": []
    }
  ]
}
{
  "nbformat": 4,
  "nbformat_minor": 0,
  "metadata": {
    "colab": {
      "provenance": [],
      "include_colab_link": true
    },
    "kernelspec": {
      "name": "python3",
      "display_name": "Python 3"
    },
    "language_info": {
      "name": "python"
    }
  },
  "cells": [
    {
      "cell_type": "markdown",
      "metadata": {
        "id": "view-in-github",
        "colab_type": "text"
      },
      "source": [
        "<a href=\"https://colab.research.google.com/github/StephenJohnson-CardiffUni/Astro/blob/main/Distributions.ipynb\" target=\"_parent\"><img src=\"https://colab.research.google.com/assets/colab-badge.svg\" alt=\"Open In Colab\"/></a>"
      ]
    },
    {
      "cell_type": "code",
      "execution_count": null,
      "metadata": {
        "id": "OCV6RY2Z8tus"
      },
      "outputs": [],
      "source": [
        "##Repository of distribution functions\n"
      ]
    },
    {
      "cell_type": "code",
      "source": [
        "import math\n",
        "\n",
        "pi = math.pi\n",
        "eConst = math.e"
      ],
      "metadata": {
        "id": "j2xme6ls8ysB"
      },
      "execution_count": 3,
      "outputs": []
    },
    {
      "cell_type": "code",
      "source": [
        "def GausNorm (x,mu,sigma):\n",
        "  return (1/(sigma*(2*pi)**0.5)) * eConst**(-(x-mu)**2 / (2*sigma)**2)"
      ],
      "metadata": {
        "id": "QBPCVDeb9qaE"
      },
      "execution_count": 4,
      "outputs": []
    },
    {
      "cell_type": "code",
      "source": [
        "def Binomial(n,k,p):\n",
        "  #n: number of trials, k: wanted out come , p = probrbility of event\n",
        "  return math.comb(n,k) * (p**k) * ((1-p)**(n-k))"
      ],
      "metadata": {
        "id": "KhQXSUu8AswW"
      },
      "execution_count": null,
      "outputs": []
    }
  ]
}
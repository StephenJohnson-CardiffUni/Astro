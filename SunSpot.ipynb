{
  "nbformat": 4,
  "nbformat_minor": 0,
  "metadata": {
    "colab": {
      "provenance": [],
      "include_colab_link": true
    },
    "kernelspec": {
      "name": "python3",
      "display_name": "Python 3"
    },
    "language_info": {
      "name": "python"
    }
  },
  "cells": [
    {
      "cell_type": "markdown",
      "metadata": {
        "id": "view-in-github",
        "colab_type": "text"
      },
      "source": [
        "<a href=\"https://colab.research.google.com/github/StephenJohnson-CardiffUni/Astro/blob/main/SunSpot.ipynb\" target=\"_parent\"><img src=\"https://colab.research.google.com/assets/colab-badge.svg\" alt=\"Open In Colab\"/></a>"
      ]
    },
    {
      "cell_type": "code",
      "execution_count": 1,
      "metadata": {
        "id": "bUvZIPJFIYj7"
      },
      "outputs": [],
      "source": [
        "'''Script to take and process sun data from given .fits files\n",
        "Manually taking down x,y,datetime for each sunspot'''\n",
        "\n",
        "SOLAR = [ [] for _ in range(14) ]\n",
        "\n",
        "SOLAR[1] = {\n",
        "'DATE_OBS':[2002,1,1],\n",
        "'T':[1,35,30,150],\n",
        "'CENTER_X':5.124912719727E+02,\n",
        "'CENTER_Y':5.121821899414E+02,\n",
        "'R_SUN':4.976492972133E+02,\n",
        "1:[236,578],\n",
        "2:[356,589],\n",
        "3:[458,642],\n",
        "4:[673,499],\n",
        "5:[699,656],\n",
        "6:[740,674],\n",
        "7:[118,358]\n",
        "}\n",
        "\n",
        "SOLAR[2] = {\n",
        "'DATE_OBS':[2002,1,2],\n",
        "'T':[6,23,30,143],\n",
        "'CENTER_X':5.126451416016E+02,\n",
        "'CENTER_Y':5.121716308594E+02,\n",
        "'R_SUN':4.976459074648E+02,\n",
        "1:[359,582],\n",
        "2:[490,588],\n",
        "3:[593,624],\n",
        "4:[798,497],\n",
        "5:[811,655],\n",
        "6:[857,639],\n",
        "7:[206,363]\n",
        "}\n",
        "\n",
        "SOLAR[3] = {\n",
        "'DATE_OBS':[2002,1,3],\n",
        "'T':[20,43,30,137],\n",
        "'CENTER_X':5.129639485677E+02,\n",
        "'CENTER_Y':5.121700744629E+02,\n",
        "'R_SUN':4.976371283928E+02,\n",
        "1:[537,586],\n",
        "2:[671,585],\n",
        "3:[760,622],\n",
        "4:[861,467],\n",
        "5:[927,648],\n",
        "6:[959,631],\n",
        "7:[361,367],\n",
        "8:[44,385]\n",
        "}\n",
        "\n",
        "SOLAR[4] = {\n",
        "'DATE_OBS':[2002,1,5],\n",
        "'T':[11,11,30,133],\n",
        "'CENTER_X':5.128095703125E+02,\n",
        "'CENTER_Y':5.121723937988E+02,\n",
        "'R_SUN':4.976233208255E+02,\n",
        "1:[741,586],\n",
        "2:[832,579],\n",
        "3:[895,616],\n",
        "4:[950,468],\n",
        "7:[530,373],\n",
        "8:[110,394],\n",
        "9:[126,645]\n",
        "}\n",
        "\n",
        "SOLAR[5] = {\n",
        "'DATE_OBS':[2002,1,6],\n",
        "'T':[20,27,30,132],\n",
        "'CENTER_X':5.129006856283E+02,\n",
        "'CENTER_Y':5.121798197428E+02,\n",
        "'R_SUN':4.976072535491E+02,\n",
        "1:[849,580],\n",
        "7:[674,375],\n",
        "8:[211,402],\n",
        "9:[236,652]\n",
        "}\n",
        "\n",
        "SOLAR[6] = {\n",
        "'DATE_OBS':[2002,1,7],\n",
        "'T':[23,59,30,131],\n",
        "'CENTER_X':5.128635253906E+02,\n",
        "'CENTER_Y':5.121746215820E+02,\n",
        "'R_SUN':4.975910001418E+02,\n",
        "1:[935,572],\n",
        "7:[782,373],\n",
        "8:[318,405],\n",
        "9:[352,656],\n",
        "10:[90,755]\n",
        "}\n",
        "\n",
        "SOLAR[7] = {\n",
        "'DATE_OBS':[2002,1,9],\n",
        "'T':[6,23,30,130],\n",
        "'CENTER_X':5.128635253906E+02,\n",
        "'CENTER_Y':5.121746215820E+02,\n",
        "'R_SUN':4.975910001418E+02,\n",
        "1:[993,562],\n",
        "7:[880,366],\n",
        "8:[451,406],\n",
        "9:[512,663],\n",
        "10:[140,767],\n",
        "11:[70,382]\n",
        "}\n",
        "\n",
        "SOLAR[8] = {\n",
        "'DATE_OBS':[2002,1,10],\n",
        "'T':[11,11,30,130],\n",
        "'CENTER_X':5.127472534180E+02,\n",
        "'CENTER_Y':5.121821594238E+02,\n",
        "'R_SUN':4.975698944716E+02,\n",
        "7:[945,360],\n",
        "8:[581,404],\n",
        "9:[657,659],\n",
        "10:[210,755],\n",
        "11:[150,408]\n",
        "}\n",
        "\n",
        "SOLAR[9] = {\n",
        "'DATE_OBS':[2002,1,11],\n",
        "'T':[19,11,30,129],\n",
        "'CENTER_X':5.131047363281E+02,\n",
        "'CENTER_Y':5.122049255371E+02,\n",
        "'R_SUN':4.975174082688E+02,\n",
        "7:[979,350],\n",
        "8:[720,399],\n",
        "9:[800,653],\n",
        "10:[214,780],\n",
        "11:[260,420],\n",
        "12:[58,480],\n",
        "13:[40,581],\n",
        "15:[36,318]\n",
        "}\n",
        "\n",
        "SOLAR[10] = {\n",
        "'DATE_OBS':[2002,1,12],\n",
        "'T':[23,59,30,128],\n",
        "'CENTER_X':5.130963745117E+02,\n",
        "'CENTER_Y':5.122990417480E+02,\n",
        "'R_SUN':4.974876625971E+02,\n",
        "8:[828,391],\n",
        "9:[899,644],\n",
        "10:[423,783],\n",
        "11:[379,425],\n",
        "12:[130,492],\n",
        "13:[97,589],\n",
        "14:[39,431],\n",
        "15:[75,627]\n",
        "}\n",
        "\n",
        "SOLAR[11] = {\n",
        "'DATE_OBS':[2002,1,14],\n",
        "'T':[6,23,30,127],\n",
        "'CENTER_X':5.128045349121E+02,\n",
        "'CENTER_Y':5.123047180176E+02,\n",
        "'R_SUN':4.974528064124E+02,\n",
        "8:[916,382],\n",
        "9:[968,636],\n",
        "10:[545,784],\n",
        "11:[523,423],\n",
        "12:[236,502],\n",
        "13:[191,598],\n",
        "14:[154,636],\n",
        "15:[90,440]\n",
        "}\n",
        "\n",
        "SOLAR[12] = {\n",
        "'DATE_OBS':[2002,1,15],\n",
        "'T':[11,11,30,125],\n",
        "'CENTER_X':5.128045349121E+02,\n",
        "'CENTER_Y':5.123047180176E+02,\n",
        "'R_SUN':4.974528064124E+02,\n",
        "8:[696,375],\n",
        "10:[658,783],\n",
        "11:[653,422],\n",
        "12:[359,309],\n",
        "13:[307,605],\n",
        "14:[170,447],\n",
        "15:[257,642]\n",
        "}\n",
        "\n",
        "SOLAR[13] = {\n",
        "'DATE_OBS':[2002,1,16],\n",
        "'T':[17,35,30,123],\n",
        "'CENTER_X':5.130968627930E+02,\n",
        "'CENTER_Y':5.122782287598E+02,\n",
        "'R_SUN':4.973747211434E+02,\n",
        "10:[767,778],\n",
        "11:[777,419],\n",
        "12:[502,513],\n",
        "13:[448,609],\n",
        "14:[283,453],\n",
        "15:[386,485]\n",
        "}\n"
      ]
    },
    {
      "cell_type": "markdown",
      "source": [
        "Fresh, \"straight from the photos\" data above, Preperation of data for use bellow"
      ],
      "metadata": {
        "id": "qRwduXu15RLG"
      }
    },
    {
      "cell_type": "code",
      "source": [
        "'''\n",
        "Repack Data to be \"spot focused\" rather than the current \"picture focus\"\n",
        "Pictures 1->14\n",
        "Sunspots 1->15\n",
        "Each data needs poss[0], date[1],time[2], lat[3], long[4]\n",
        "'''\n",
        "import numpy as np\n",
        "import datetime\n",
        "\n",
        "spots = [[[[] for i in range(14)] for i in range(5)] for i in range(16)]\n",
        "\n",
        "for i in range(1,14):#pictures\n",
        "  for j in range(1,16):#spots\n",
        "\n",
        "    #Fast esc\n",
        "    if SOLAR[i].get(j) == None:\n",
        "      continue\n",
        "    \n",
        "    spots[j][0][i] = SOLAR[i].get(j) #X,Y\n",
        "\n",
        "    spots[j][1][i] = datetime.date(SOLAR[i].get('DATE_OBS')[0],SOLAR[i].get('DATE_OBS')[1],SOLAR[i].get('DATE_OBS')[2])#date as datetime object\n",
        "    spots[j][2][i] = SOLAR[i].get('T') #time - maybe useless\n",
        "\n",
        "    #lat\n",
        "    spots[j][3][i] = np.rad2deg(np.arcsin( ((spots[j][0][i][1])-SOLAR[i].get(\"CENTER_Y\")) / SOLAR[i].get(\"R_SUN\") ))\n",
        "\n",
        "    #long\n",
        "    spots[j][4][i] = np.rad2deg(np.arcsin( ((spots[j][0][i][0])-SOLAR[i].get(\"CENTER_X\")) / SOLAR[i].get(\"R_SUN\") ))"
      ],
      "metadata": {
        "id": "KIjQEk3aLVpy"
      },
      "execution_count": 2,
      "outputs": []
    },
    {
      "cell_type": "code",
      "source": [
        "'''Tidys out empty entries'''\n",
        "cleanedList = spots\n",
        "cleanedList = cleanedList[1:]\n",
        "\n",
        "for i in range(14,-1,-1):\n",
        "  # print(cleanedList[i])\n",
        "  for j in range(4,-1,-1):\n",
        "    # print(cleanedList[i][j])\n",
        "    for k in range(13,-1,-1):\n",
        "      #print(cleanedList[i][j][k])\n",
        "      if cleanedList[i][j][k] == []:\n",
        "        del cleanedList[i][j][k]"
      ],
      "metadata": {
        "colab": {
          "base_uri": "https://localhost:8080/"
        },
        "id": "cyQfwx8oN5Fp",
        "outputId": "f106be26-cda6-433f-998a-0695b2c3b15e"
      },
      "execution_count": 3,
      "outputs": [
        {
          "output_type": "stream",
          "name": "stderr",
          "text": [
            "<ipython-input-3-26e2727f4e98>:11: DeprecationWarning: The truth value of an empty array is ambiguous. Returning False, but in future this will result in an error. Use `array.size > 0` to check that an array is not empty.\n",
            "  if cleanedList[i][j][k] == []:\n"
          ]
        }
      ]
    },
    {
      "cell_type": "code",
      "source": [
        "'''prepares the times for plotting'''\n",
        "import matplotlib.dates as dts\n",
        "\n",
        "timeList = [[] for i in range(16)] \n",
        "\n",
        "for i in range(len(cleanedList)):\n",
        "  timeList[i].append(cleanedList[i][1])\n",
        "\n",
        "\n",
        "for i in range(len(timeList)-1,-1,-1):\n",
        "  for j in range(len(timeList[i])-1,-1,-1):\n",
        "    timeList[i][j] = dts.date2num(timeList[i][j])"
      ],
      "metadata": {
        "id": "4sIFprdsZC5y"
      },
      "execution_count": 4,
      "outputs": []
    },
    {
      "cell_type": "code",
      "source": [
        "'''split by latitude'''\n",
        "meanLats = []\n",
        "for i in range(15):\n",
        "  meanLats.append(np.abs(np.mean(cleanedList[i][3])))\n",
        "\n",
        "print(meanLats)\n",
        "'''<10 [0,1,3,11,12,13,14] , 10>x>20 [2,4,5,6,7,8,10] , <20 [9]''' "
      ],
      "metadata": {
        "colab": {
          "base_uri": "https://localhost:8080/",
          "height": 73
        },
        "id": "9KOi1u_ulvKZ",
        "outputId": "15701669-8229-4858-b446-f3a1552b181f"
      },
      "execution_count": 5,
      "outputs": [
        {
          "output_type": "stream",
          "name": "stdout",
          "text": [
            "[7.602248206724336, 8.444403490398994, 13.225178517671866, 3.3913581051502644, 16.438846824269543, 15.851886542421147, 17.206474504524444, 13.71246516754481, 16.19943117121735, 31.640056977207518, 11.378455111935576, 6.255279698041589, 9.737922546814525, 2.3489282629791246, 1.2069690011228122]\n"
          ]
        },
        {
          "output_type": "execute_result",
          "data": {
            "text/plain": [
              "'<10 [0,1,3,11,12,13,14] , 10>x>20 [2,4,5,6,7,8,10] , <20 [9]'"
            ],
            "application/vnd.google.colaboratory.intrinsic+json": {
              "type": "string"
            }
          },
          "metadata": {},
          "execution_count": 5
        }
      ]
    },
    {
      "cell_type": "code",
      "source": [
        "import matplotlib.pyplot as plt\n",
        "\n",
        "'''low lats'''\n",
        "timeRange10=[]\n",
        "longs10=[]\n",
        "for i in [0,1,3,11,12,13,14]:\n",
        "  timeRange10.append(timeList[i][0])\n",
        "  longs10.append(cleanedList[i][4])\n",
        "\n",
        "for i in range(len(timeRange10)):\n",
        "  plt.plot(timeRange10[i],longs10[i])\n",
        "\n",
        "plt.figure()\n",
        "\n",
        "'''med lats'''\n",
        "timeRange20=[]\n",
        "longs20=[]\n",
        "for i in [2,4,5,6,7,8,10]:\n",
        "  timeRange20.append(timeList[i][0])\n",
        "  longs20.append(cleanedList[i][4])\n",
        "\n",
        "for i in range(len(timeRange20)):\n",
        "  plt.plot(timeRange20[i],longs20[i])\n",
        "\n",
        "plt.figure()\n",
        "\n",
        "'''one high lat'''\n",
        "plt.plot(timeList[9][0],cleanedList[9][4])"
      ],
      "metadata": {
        "colab": {
          "base_uri": "https://localhost:8080/",
          "height": 818
        },
        "id": "IW-o7NoiikTD",
        "outputId": "60a325ed-85ea-4a65-e541-a3724075670a"
      },
      "execution_count": 6,
      "outputs": [
        {
          "output_type": "execute_result",
          "data": {
            "text/plain": [
              "[<matplotlib.lines.Line2D at 0x7fb868e0adc0>]"
            ]
          },
          "metadata": {},
          "execution_count": 6
        },
        {
          "output_type": "display_data",
          "data": {
            "text/plain": [
              "<Figure size 432x288 with 1 Axes>"
            ],
            "image/png": "[encoded data removed]"
          },
          "metadata": {
            "needs_background": "light"
          }
        },
        {
          "output_type": "display_data",
          "data": {
            "text/plain": [
              "<Figure size 432x288 with 1 Axes>"
            ],
            "image/png": "[encoded data removed]"
          },
          "metadata": {
            "needs_background": "light"
          }
        },
        {
          "output_type": "display_data",
          "data": {
            "text/plain": [
              "<Figure size 432x288 with 1 Axes>"
            ],
            "image/png": "[encoded data removed]"
          },
          "metadata": {
            "needs_background": "light"
          }
        }
      ]
    },
    {
      "cell_type": "markdown",
      "source": [
        "Curve Fit"
      ],
      "metadata": {
        "id": "rExSLSNk963Z"
      }
    },
    {
      "cell_type": "code",
      "source": [
        "from scipy.optimize import curve_fit\n",
        "\n",
        "def lineFunc(x,m,c):\n",
        "  return (m*x)+c\n",
        "\n",
        "highpopt,highpcov = curve_fit(lineFunc,timeList[9][0],cleanedList[9][4]) #takes an array for uncertainties, do that\n",
        "print(f\"This sunspot travels at {highpopt[0]:.2f}(±{highpcov[0,0]:.2f}) longitude per day. With a mean lat of {meanLats[9]:.2f}\")\n",
        "\n",
        "plt.plot(timeList[9][0],lineFunc(timeList[9][0],highpopt[0],highpopt[1]));\n",
        "plt.plot(timeList[9][0],cleanedList[9][4]);\n",
        "plt.title(\"Fit Vs Data\");"
      ],
      "metadata": {
        "id": "aj8eLsuE98mX",
        "outputId": "241f5d7c-fabf-4067-a6c1-c2f6087b7593",
        "colab": {
          "base_uri": "https://localhost:8080/",
          "height": 311
        }
      },
      "execution_count": 27,
      "outputs": [
        {
          "output_type": "stream",
          "name": "stdout",
          "text": [
            "This sunspot travels at 10.29(±0.64) longitude per day. With a mean lat of 31.64\n"
          ]
        },
        {
          "output_type": "display_data",
          "data": {
            "text/plain": [
              "<Figure size 432x288 with 1 Axes>"
            ],
            "image/png": "[encoded data removed]"
          },
          "metadata": {
            "needs_background": "light"
          }
        }
      ]
    },
    {
      "cell_type": "code",
      "source": [],
      "metadata": {
        "id": "3Qs0---VB7Rr"
      },
      "execution_count": null,
      "outputs": []
    }
  ]
}
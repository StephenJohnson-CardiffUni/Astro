{
  "nbformat": 4,
  "nbformat_minor": 0,
  "metadata": {
    "colab": {
      "provenance": [],
      "include_colab_link": true
    },
    "kernelspec": {
      "name": "python3",
      "display_name": "Python 3"
    },
    "language_info": {
      "name": "python"
    }
  },
  "cells": [
    {
      "cell_type": "markdown",
      "metadata": {
        "id": "view-in-github",
        "colab_type": "text"
      },
      "source": [
        "<a href=\"https://colab.research.google.com/github/StephenJohnson-CardiffUni/Astro/blob/main/SunSpot.ipynb\" target=\"_parent\"><img src=\"https://colab.research.google.com/assets/colab-badge.svg\" alt=\"Open In Colab\"/></a>"
      ]
    },
    {
      "cell_type": "code",
      "source": [
        "!pip install uncertainties"
      ],
      "metadata": {
        "colab": {
          "base_uri": "https://localhost:8080/"
        },
        "id": "0sHhmcJKZXiH",
        "outputId": "a3264247-35e1-4355-f06b-2d44b9f4d1d1"
      },
      "execution_count": 1,
      "outputs": [
        {
          "output_type": "stream",
          "name": "stdout",
          "text": [
            "Looking in indexes: https://pypi.org/simple, https://us-python.pkg.dev/colab-wheels/public/simple/\n",
            "Collecting uncertainties\n",
            "  Downloading uncertainties-3.1.7-py2.py3-none-any.whl (98 kB)\n",
            "\u001b[2K     \u001b[90m━━━━━━━━━━━━━━━━━━━━━━━━━━━━━━━━━━━━━━━━\u001b[0m \u001b[32m98.4/98.4 KB\u001b[0m \u001b[31m4.1 MB/s\u001b[0m eta \u001b[36m0:00:00\u001b[0m\n",
            "\u001b[?25hRequirement already satisfied: future in /usr/local/lib/python3.8/dist-packages (from uncertainties) (0.16.0)\n",
            "Installing collected packages: uncertainties\n",
            "Successfully installed uncertainties-3.1.7\n"
          ]
        }
      ]
    },
    {
      "cell_type": "code",
      "execution_count": 2,
      "metadata": {
        "id": "bUvZIPJFIYj7"
      },
      "outputs": [],
      "source": [
        "'''Script to take and process sun data from given .fits files\n",
        "Manually taking down x,y,datetime for each sunspot'''\n",
        "import uncertainties as uc \n",
        "\n",
        "SOLAR = [ [] for _ in range(14) ]\n",
        "\n",
        "SOLAR[1] = {\n",
        "'DATE_OBS':[2002,1,1],\n",
        "'T':[1,35,30,150],\n",
        "'CENTER_X':5.124912719727E+02,\n",
        "'CENTER_Y':5.121821899414E+02,\n",
        "'R_SUN':4.976492972133E+02,\n",
        "1:[uc.ufloat(236,1),uc.ufloat(578,1)],\n",
        "2:[uc.ufloat(356,1),uc.ufloat(589,1)],\n",
        "3:[uc.ufloat(458,1),uc.ufloat(642,1)],\n",
        "4:[uc.ufloat(673,1),uc.ufloat(499,1)],\n",
        "5:[uc.ufloat(699,1),uc.ufloat(656,1)],\n",
        "6:[uc.ufloat(740,1),uc.ufloat(674,1)],\n",
        "7:[uc.ufloat(118,1),uc.ufloat(358,1)]\n",
        "}\n",
        "\n",
        "SOLAR[2] = {\n",
        "'DATE_OBS':[2002,1,2],\n",
        "'T':[6,23,30,143],\n",
        "'CENTER_X':5.126451416016E+02,\n",
        "'CENTER_Y':5.121716308594E+02,\n",
        "'R_SUN':4.976459074648E+02,\n",
        "1:[uc.ufloat(359,1),uc.ufloat(582,1)],\n",
        "2:[uc.ufloat(490,1),uc.ufloat(588,1)],\n",
        "3:[uc.ufloat(593,1),uc.ufloat(624,1)],\n",
        "4:[uc.ufloat(798,1),uc.ufloat(497,1)],\n",
        "5:[uc.ufloat(811,1),uc.ufloat(655,1)],\n",
        "6:[uc.ufloat(857,1),uc.ufloat(639,1)],\n",
        "7:[uc.ufloat(206,1),uc.ufloat(363,1)]\n",
        "}\n",
        "\n",
        "SOLAR[3] = {\n",
        "'DATE_OBS':[2002,1,3],\n",
        "'T':[20,43,30,137],\n",
        "'CENTER_X':5.129639485677E+02,\n",
        "'CENTER_Y':5.121700744629E+02,\n",
        "'R_SUN':4.976371283928E+02,\n",
        "1:[uc.ufloat(537,1),uc.ufloat(586,1)],\n",
        "2:[uc.ufloat(671,1),uc.ufloat(585,1)],\n",
        "3:[uc.ufloat(760,1),uc.ufloat(622,1)],\n",
        "4:[uc.ufloat(861,1),uc.ufloat(467,1)],\n",
        "5:[uc.ufloat(927,1),uc.ufloat(648,1)],\n",
        "6:[uc.ufloat(959,1),uc.ufloat(631,1)],\n",
        "7:[uc.ufloat(361,1),uc.ufloat(367,1)],\n",
        "8:[uc.ufloat(44,1),uc.ufloat(385,1),]\n",
        "}\n",
        "\n",
        "SOLAR[4] = {\n",
        "'DATE_OBS':[2002,1,5],\n",
        "'T':[11,11,30,133],\n",
        "'CENTER_X':5.128095703125E+02,\n",
        "'CENTER_Y':5.121723937988E+02,\n",
        "'R_SUN':4.976233208255E+02,\n",
        "1:[uc.ufloat(741,1),uc.ufloat(586,1)],\n",
        "2:[uc.ufloat(832,1),uc.ufloat(579,1)],\n",
        "3:[uc.ufloat(895,1),uc.ufloat(616,1)],\n",
        "4:[uc.ufloat(950,1),uc.ufloat(468,1)],\n",
        "7:[uc.ufloat(530,1),uc.ufloat(373,1)],\n",
        "8:[uc.ufloat(110,1),uc.ufloat(394,1)],\n",
        "9:[uc.ufloat(126,1),uc.ufloat(645,1)]\n",
        "}\n",
        "\n",
        "SOLAR[5] = {\n",
        "'DATE_OBS':[2002,1,6],\n",
        "'T':[20,27,30,132],\n",
        "'CENTER_X':5.129006856283E+02,\n",
        "'CENTER_Y':5.121798197428E+02,\n",
        "'R_SUN':4.976072535491E+02,\n",
        "1:[uc.ufloat(849,1),uc.ufloat(580,1)],\n",
        "7:[uc.ufloat(674,1),uc.ufloat(375,1)],\n",
        "8:[uc.ufloat(211,1),uc.ufloat(402,1)],\n",
        "9:[uc.ufloat(236,1),uc.ufloat(652,1)]\n",
        "}\n",
        "\n",
        "SOLAR[6] = {\n",
        "'DATE_OBS':[2002,1,7],\n",
        "'T':[23,59,30,131],\n",
        "'CENTER_X':5.128635253906E+02,\n",
        "'CENTER_Y':5.121746215820E+02,\n",
        "'R_SUN':4.975910001418E+02,\n",
        "1:[uc.ufloat(935,1),uc.ufloat(572,1)],\n",
        "7:[uc.ufloat(782,1),uc.ufloat(373,1)],\n",
        "8:[uc.ufloat(318,1),uc.ufloat(405,1)],\n",
        "9:[uc.ufloat(352,1),uc.ufloat(656,1)],\n",
        "10:[uc.ufloat(90,1),uc.ufloat(755,1)]\n",
        "}\n",
        "\n",
        "SOLAR[7] = {\n",
        "'DATE_OBS':[2002,1,9],\n",
        "'T':[6,23,30,130],\n",
        "'CENTER_X':5.128635253906E+02,\n",
        "'CENTER_Y':5.121746215820E+02,\n",
        "'R_SUN':4.975910001418E+02,\n",
        "1:[uc.ufloat(993,1),uc.ufloat(562,1)],\n",
        "7:[uc.ufloat(880,1),uc.ufloat(366,1)],\n",
        "8:[uc.ufloat(451,1),uc.ufloat(406,1)],\n",
        "9:[uc.ufloat(512,1),uc.ufloat(663,1)],\n",
        "10:[uc.ufloat(140,1),uc.ufloat(767,1)],\n",
        "11:[uc.ufloat(70,1),uc.ufloat(382,1)]\n",
        "}\n",
        "\n",
        "SOLAR[8] = {\n",
        "'DATE_OBS':[2002,1,10],\n",
        "'T':[11,11,30,130],\n",
        "'CENTER_X':5.127472534180E+02,\n",
        "'CENTER_Y':5.121821594238E+02,\n",
        "'R_SUN':4.975698944716E+02,\n",
        "7:[uc.ufloat(945,1),uc.ufloat(360,1)],\n",
        "8:[uc.ufloat(581,1),uc.ufloat(404,1)],\n",
        "9:[uc.ufloat(657,1),uc.ufloat(659,1)],\n",
        "10:[uc.ufloat(210,1),uc.ufloat(755,1)],\n",
        "11:[uc.ufloat(150,1),uc.ufloat(408,1)]\n",
        "}\n",
        "\n",
        "SOLAR[9] = {\n",
        "'DATE_OBS':[2002,1,11],\n",
        "'T':[19,11,30,129],\n",
        "'CENTER_X':5.131047363281E+02,\n",
        "'CENTER_Y':5.122049255371E+02,\n",
        "'R_SUN':4.975174082688E+02,\n",
        "7:[uc.ufloat(979,1),uc.ufloat(350,1)],\n",
        "8:[uc.ufloat(720,1),uc.ufloat(399,1)],\n",
        "9:[uc.ufloat(800,1),uc.ufloat(653,1)],\n",
        "10:[uc.ufloat(214,1),uc.ufloat(780,1)],\n",
        "11:[uc.ufloat(260,1),uc.ufloat(420,1)],\n",
        "12:[uc.ufloat(58,1),uc.ufloat(480,1)],\n",
        "13:[uc.ufloat(40,1),uc.ufloat(581,1)],\n",
        "15:[uc.ufloat(36,1),uc.ufloat(318,1)]\n",
        "}\n",
        "\n",
        "SOLAR[10] = {\n",
        "'DATE_OBS':[2002,1,12],\n",
        "'T':[23,59,30,128],\n",
        "'CENTER_X':5.130963745117E+02,\n",
        "'CENTER_Y':5.122990417480E+02,\n",
        "'R_SUN':4.974876625971E+02,\n",
        "8:[uc.ufloat(828,1),uc.ufloat(391,1)],\n",
        "9:[uc.ufloat(899,1),uc.ufloat(644,1)],\n",
        "10:[uc.ufloat(423,1),uc.ufloat(783,1)],\n",
        "11:[uc.ufloat(379,1),uc.ufloat(425,1)],\n",
        "12:[uc.ufloat(130,1),uc.ufloat(492,1)],\n",
        "13:[uc.ufloat(97,1),uc.ufloat(589,1)],\n",
        "14:[uc.ufloat(39,1),uc.ufloat(431,1)],\n",
        "15:[uc.ufloat(75,1),uc.ufloat(627,1)]\n",
        "}\n",
        "\n",
        "SOLAR[11] = {\n",
        "'DATE_OBS':[2002,1,14],\n",
        "'T':[6,23,30,127],\n",
        "'CENTER_X':5.128045349121E+02,\n",
        "'CENTER_Y':5.123047180176E+02,\n",
        "'R_SUN':4.974528064124E+02,\n",
        "8:[uc.ufloat(916,1),uc.ufloat(382,1)],\n",
        "9:[uc.ufloat(968,1),uc.ufloat(636,1)],\n",
        "10:[uc.ufloat(545,1),uc.ufloat(784,1)],\n",
        "11:[uc.ufloat(523,1),uc.ufloat(423,1)],\n",
        "12:[uc.ufloat(236,1),uc.ufloat(502,1)],\n",
        "13:[uc.ufloat(191,1),uc.ufloat(598,1)],\n",
        "14:[uc.ufloat(154,1),uc.ufloat(636,1)],\n",
        "15:[uc.ufloat(90,1),uc.ufloat(440,1)]\n",
        "}\n",
        "\n",
        "SOLAR[12] = {\n",
        "'DATE_OBS':[2002,1,15],\n",
        "'T':[11,11,30,125],\n",
        "'CENTER_X':5.128045349121E+02,\n",
        "'CENTER_Y':5.123047180176E+02,\n",
        "'R_SUN':4.974528064124E+02,\n",
        "8:[uc.ufloat(696,1),uc.ufloat(375,1)],\n",
        "10:[uc.ufloat(658,1),uc.ufloat(783,1)],\n",
        "11:[uc.ufloat(653,1),uc.ufloat(422,1)],\n",
        "12:[uc.ufloat(359,1),uc.ufloat(309,1)],\n",
        "13:[uc.ufloat(307,1),uc.ufloat(605,1)],\n",
        "14:[uc.ufloat(170,1),uc.ufloat(447,1)],\n",
        "15:[uc.ufloat(257,1),uc.ufloat(642,1)]\n",
        "}\n",
        "\n",
        "SOLAR[13] = {\n",
        "'DATE_OBS':[2002,1,16],\n",
        "'T':[17,35,30,123],\n",
        "'CENTER_X':5.130968627930E+02,\n",
        "'CENTER_Y':5.122782287598E+02,\n",
        "'R_SUN':4.973747211434E+02,\n",
        "10:[uc.ufloat(767,1),uc.ufloat(778,1)],\n",
        "11:[uc.ufloat(777,1),uc.ufloat(419,1)],\n",
        "12:[uc.ufloat(502,1),uc.ufloat(513,1)],\n",
        "13:[uc.ufloat(448,1),uc.ufloat(609,1)],\n",
        "14:[uc.ufloat(283,1),uc.ufloat(453,1)],\n",
        "15:[uc.ufloat(386,1),uc.ufloat(485,1)]\n",
        "}\n"
      ]
    },
    {
      "cell_type": "markdown",
      "source": [
        "Fresh, \"straight from the photos\" data above, Preperation of data for use bellow"
      ],
      "metadata": {
        "id": "qRwduXu15RLG"
      }
    },
    {
      "cell_type": "code",
      "source": [
        "'''\n",
        "Repack Data to be \"spot focused\" rather than the current \"picture focus\"\n",
        "Pictures 1->14\n",
        "Sunspots 1->15\n",
        "Each data needs poss[0], date[1],time[2], lat[3], long[4]\n",
        "'''\n",
        "import uncertainties.umath as um #um.asin | um.degrees\n",
        "import numpy as np\n",
        "import datetime\n",
        "\n",
        "spots = [[[[] for i in range(14)] for i in range(5)] for i in range(16)]\n",
        "\n",
        "for i in range(1,14):#pictures\n",
        "  for j in range(1,16):#spots\n",
        "\n",
        "    #Fast esc\n",
        "    if SOLAR[i].get(j) == None:\n",
        "      continue\n",
        "    \n",
        "    spots[j][0][i] = SOLAR[i].get(j) #X,Y\n",
        "\n",
        "    spots[j][1][i] = datetime.date(SOLAR[i].get('DATE_OBS')[0],SOLAR[i].get('DATE_OBS')[1],SOLAR[i].get('DATE_OBS')[2])#date as datetime object\n",
        "    spots[j][2][i] = SOLAR[i].get('T') #time - maybe useless\n",
        "\n",
        "    #lat\n",
        "    spots[j][3][i] = um.degrees(um.asin( ((spots[j][0][i][1])-SOLAR[i].get(\"CENTER_Y\")) / SOLAR[i].get(\"R_SUN\") ))\n",
        "\n",
        "    #long\n",
        "    spots[j][4][i] = um.degrees(um.asin( ((spots[j][0][i][0])-SOLAR[i].get(\"CENTER_X\")) / SOLAR[i].get(\"R_SUN\") ))"
      ],
      "metadata": {
        "id": "KIjQEk3aLVpy"
      },
      "execution_count": 3,
      "outputs": []
    },
    {
      "cell_type": "code",
      "source": [
        "'''Tidys out empty entries'''\n",
        "cleanedList = spots\n",
        "cleanedList = cleanedList[1:]\n",
        "\n",
        "for i in range(14,-1,-1):\n",
        "  # print(cleanedList[i])\n",
        "  for j in range(4,-1,-1):\n",
        "    # print(cleanedList[i][j])\n",
        "    for k in range(13,-1,-1):\n",
        "      #print(cleanedList[i][j][k])\n",
        "      if cleanedList[i][j][k] == []:\n",
        "        del cleanedList[i][j][k]"
      ],
      "metadata": {
        "id": "cyQfwx8oN5Fp"
      },
      "execution_count": 4,
      "outputs": []
    },
    {
      "cell_type": "code",
      "source": [
        "'''prepares the times for plotting'''\n",
        "import matplotlib.dates as dts\n",
        "\n",
        "timeList = [[] for i in range(16)] \n",
        "\n",
        "for i in range(len(cleanedList)):\n",
        "  timeList[i].append(cleanedList[i][1])\n",
        "\n",
        "\n",
        "for i in range(len(timeList)-1,-1,-1):\n",
        "  for j in range(len(timeList[i])-1,-1,-1):\n",
        "    timeList[i][j] = dts.date2num(timeList[i][j])"
      ],
      "metadata": {
        "id": "4sIFprdsZC5y"
      },
      "execution_count": 5,
      "outputs": []
    },
    {
      "cell_type": "code",
      "source": [
        "'''split by latitude'''\n",
        "meanLats = []\n",
        "for i in range(15):\n",
        "  meanLats.append(np.abs(np.mean(cleanedList[i][3])))\n",
        "\n",
        "\n",
        "'''<10 [0,1,3,11,12,13,14] , 10>x>20 [2,4,5,6,7,8,10] , <20 [9]''' "
      ],
      "metadata": {
        "colab": {
          "base_uri": "https://localhost:8080/",
          "height": 35
        },
        "id": "9KOi1u_ulvKZ",
        "outputId": "36f54197-b5f6-47a5-b1c4-38efd4f9c091"
      },
      "execution_count": 6,
      "outputs": [
        {
          "output_type": "execute_result",
          "data": {
            "text/plain": [
              "'<10 [0,1,3,11,12,13,14] , 10>x>20 [2,4,5,6,7,8,10] , <20 [9]'"
            ],
            "application/vnd.google.colaboratory.intrinsic+json": {
              "type": "string"
            }
          },
          "metadata": {},
          "execution_count": 6
        }
      ]
    },
    {
      "cell_type": "markdown",
      "source": [
        "Plotting data"
      ],
      "metadata": {
        "id": "L696nYZKkzAj"
      }
    },
    {
      "cell_type": "code",
      "source": [
        "import matplotlib.pyplot as plt\n",
        "\n",
        "'''low lats'''\n",
        "timeRange10=[]\n",
        "longs10=[]\n",
        "for i in [0,1,3,11,12,13,14]:\n",
        "  timeRange10.append(timeList[i][0:])\n",
        "  longs10.append(cleanedList[i][4:])\n",
        "\n",
        "\n",
        "for i in range(len(timeRange10)):\n",
        "\n",
        "  long10U = longs10[i] # dump into holder var to access .nominal_val\n",
        "  long10N = long10U[0][:]\n",
        "  for j in range(len(long10U[0])):\n",
        "    long10N[j] = long10U[0][j].nominal_value\n",
        "  plt.plot(timeRange10[i][0],long10N)\n",
        "\n",
        "plt.xlabel(\"Time(Days)\")\n",
        "plt.ylabel(\"Longitude(Deg)\")\n",
        "plt.title(\"Low Latitude SunSpots\")\n",
        "\n",
        "plt.figure()\n",
        "\n",
        "\n",
        "'''med lats'''\n",
        "timeRange20=[]\n",
        "longs20=[]\n",
        "for i in [2,4,5,6,7,8,10]:\n",
        "  timeRange20.append(timeList[i][0:])\n",
        "  longs20.append(cleanedList[i][4:])\n",
        "\n",
        "for i in range(len(timeRange20)):\n",
        "  long20U = longs20[i]\n",
        "  long20N = long20U[0][:]\n",
        "  for j in range(len(long20U[0])):\n",
        "    long20N[j] = long20U[0][j].nominal_value\n",
        "  plt.plot(timeRange20[i][0],long20N)\n",
        "\n",
        "plt.xlabel(\"Time(Days)\")\n",
        "plt.ylabel(\"Longitude(Deg)\")\n",
        "plt.title(\"Mid Latitude SunSpots\")\n",
        "plt.figure()\n",
        "\n",
        "\n",
        "'''This works when making the graph, but cannot get the nominal value in hlong without changing the origonal cleanedList Entry\n",
        "This devistated the curve fit so commented out\n",
        "''' \n",
        "# '''one high lat'''\n",
        "# HlongsU = []\n",
        "# HlongsU.append(cleanedList[9][4])\n",
        "# HlongN = list(HlongsU)\n",
        "# for j in range(len(HlongsU[0])):\n",
        "#   HlongN[0][j] = HlongsU[0][j].nominal_value\n",
        "# plt.plot(timeList[9][0],HlongN[0])\n",
        "# plt.xlabel(\"Time(Days)\")\n",
        "# plt.ylabel(\"Longitude(Deg)\")\n",
        "# plt.title(\"High Latitude SunSpots\")"
      ],
      "metadata": {
        "colab": {
          "base_uri": "https://localhost:8080/",
          "height": 609
        },
        "id": "IW-o7NoiikTD",
        "outputId": "e6b327ae-606a-407d-f48b-44cb62928eae"
      },
      "execution_count": 7,
      "outputs": [
        {
          "output_type": "execute_result",
          "data": {
            "text/plain": [
              "'This works when making the graph, but cannot get the nominal value in hlong without changing the origonal cleanedList Entry\\nThis devistated the curve fit so commented out\\n'"
            ],
            "application/vnd.google.colaboratory.intrinsic+json": {
              "type": "string"
            }
          },
          "metadata": {},
          "execution_count": 7
        },
        {
          "output_type": "display_data",
          "data": {
            "text/plain": [
              "<Figure size 432x288 with 1 Axes>"
            ],
            "image/png": "[encoded data removed]"
          },
          "metadata": {
            "needs_background": "light"
          }
        },
        {
          "output_type": "display_data",
          "data": {
            "text/plain": [
              "<Figure size 432x288 with 1 Axes>"
            ],
            "image/png": "[encoded data removed]"
          },
          "metadata": {
            "needs_background": "light"
          }
        },
        {
          "output_type": "display_data",
          "data": {
            "text/plain": [
              "<Figure size 432x288 with 0 Axes>"
            ]
          },
          "metadata": {}
        }
      ]
    },
    {
      "cell_type": "markdown",
      "source": [
        "Curve Fit"
      ],
      "metadata": {
        "id": "rExSLSNk963Z"
      }
    },
    {
      "cell_type": "code",
      "source": [
        "from scipy.optimize import curve_fit\n",
        "\n",
        "def lineFunc(x,m,c):\n",
        "  return (m*x)+c\n",
        "\n",
        "\n",
        "#array for curvefitdatas tolive in\n",
        "FullcurveData = [ [[]for i in range(2)] for i in range(len(timeList))]\n",
        "speeds = [[] for x in range(15)]\n",
        "\n",
        "for i in range(len(cleanedList)):\n",
        "  allLongs = list(cleanedList[i][4])\n",
        "  allN = list(allLongs)\n",
        "  allS = list(allLongs)\n",
        "\n",
        "\n",
        "  for j in range(len(allLongs)):\n",
        "    allN[j] = allLongs[j].nominal_value\n",
        "    allS[j] = allLongs[j].s\n",
        "\n",
        "  popt,pcov = curve_fit(lineFunc,timeList[i][0],allN,sigma=allS)\n",
        "  FullcurveData[i][0] = popt\n",
        "  FullcurveData[i][1] = pcov\n",
        "  plt.plot(timeList[i][0],allN,alpha=0.7)\n",
        "  plt.plot(timeList[i][0],lineFunc(timeList[i][0],FullcurveData[i][0][0],FullcurveData[i][0][1]),\"--\")\n",
        "  perr = np.sqrt(np.diag(FullcurveData[i][1]))\n",
        "  print(f\"Spot number {i+1} has slope of {FullcurveData[i][0][0]:.2f} and this has an uncertainty of {perr[0]:.2f}\") # check this is the correct error when less tired\n",
        "  speeds[i] = uc.ufloat(FullcurveData[i][0][0],perr[0])\n",
        "  \n",
        "plt.xlabel(\"Time(Days)\");\n",
        "plt.ylabel(\"Longitude(Deg)\");\n",
        "plt.title(\"All SunSpots with Fit\");"
      ],
      "metadata": {
        "id": "H1RGzkSFKNK1",
        "colab": {
          "base_uri": "https://localhost:8080/",
          "height": 555
        },
        "outputId": "324d9b93-b08e-4f88-9dd6-60bd163bb107"
      },
      "execution_count": 8,
      "outputs": [
        {
          "output_type": "stream",
          "name": "stdout",
          "text": [
            "Spot number 1 has slope of 14.73 and this has an uncertainty of 0.65\n",
            "Spot number 2 has slope of 15.00 and this has an uncertainty of 1.67\n",
            "Spot number 3 has slope of 14.81 and this has an uncertainty of 1.67\n",
            "Spot number 4 has slope of 11.07 and this has an uncertainty of 1.43\n",
            "Spot number 5 has slope of 16.69 and this has an uncertainty of 1.43\n",
            "Spot number 6 has slope of 17.78 and this has an uncertainty of 1.02\n",
            "Spot number 7 has slope of 12.34 and this has an uncertainty of 0.59\n",
            "Spot number 8 has slope of 8.65 and this has an uncertainty of 1.48\n",
            "Spot number 9 has slope of 13.43 and this has an uncertainty of 0.64\n",
            "Spot number 10 has slope of 10.70 and this has an uncertainty of 0.82\n",
            "Spot number 11 has slope of 12.44 and this has an uncertainty of 0.64\n",
            "Spot number 12 has slope of 12.66 and this has an uncertainty of 1.19\n",
            "Spot number 13 has slope of 12.86 and this has an uncertainty of 1.29\n",
            "Spot number 14 has slope of 10.34 and this has an uncertainty of 2.03\n",
            "Spot number 15 has slope of 12.68 and this has an uncertainty of 2.54\n"
          ]
        },
        {
          "output_type": "display_data",
          "data": {
            "text/plain": [
              "<Figure size 432x288 with 1 Axes>"
            ],
            "image/png": "[encoded data removed]"
          },
          "metadata": {
            "needs_background": "light"
          }
        }
      ]
    },
    {
      "cell_type": "code",
      "source": [
        "Rzero = uc.ufloat(695660000,140)\n"
      ],
      "metadata": {
        "id": "bXdCov9mi3BI"
      },
      "execution_count": 9,
      "outputs": []
    },
    {
      "cell_type": "code",
      "source": [
        "speeds"
      ],
      "metadata": {
        "id": "npAMglArON_U",
        "outputId": "b5a83051-5c1d-4fab-b0f1-1e952c154591",
        "colab": {
          "base_uri": "https://localhost:8080/"
        }
      },
      "execution_count": 10,
      "outputs": [
        {
          "output_type": "execute_result",
          "data": {
            "text/plain": [
              "[14.734315838683308+/-0.6536251620686085,\n",
              " 14.998034917727193+/-1.670743456585415,\n",
              " 14.811925285786144+/-1.6741821154740617,\n",
              " 11.074310283111913+/-1.4335156286690045,\n",
              " 16.689595660044898+/-1.4284769400691688,\n",
              " 17.78321355338638+/-1.0153011837372725,\n",
              " 12.33951840509941+/-0.5942681821231257,\n",
              " 8.647321536359645+/-1.4781940446430673,\n",
              " 13.43052180145977+/-0.6353990138763826,\n",
              " 10.699610012097484+/-0.815196182857026,\n",
              " 12.438630891362347+/-0.6428701701654359,\n",
              " 12.662649416174792+/-1.1889543906548852,\n",
              " 12.864456398035486+/-1.2888969883658186,\n",
              " 10.335246559796236+/-2.0264215716843976,\n",
              " 12.67759921612223+/-2.536461368803207]"
            ]
          },
          "metadata": {},
          "execution_count": 10
        }
      ]
    },
    {
      "cell_type": "code",
      "source": [
        "for i in range(len(meanLats)): \n",
        "  print(f\"Spot {i+1}  :  ({meanLats[i]:.2f}) Degrees\")"
      ],
      "metadata": {
        "id": "BWPpMKBjR-m8",
        "outputId": "08fe4260-d478-44d2-d02d-0958bb9727af",
        "colab": {
          "base_uri": "https://localhost:8080/"
        }
      },
      "execution_count": 11,
      "outputs": [
        {
          "output_type": "stream",
          "name": "stdout",
          "text": [
            "Spot 1  :  (7.60+/-0.04) Degrees\n",
            "Spot 2  :  (8.44+/-0.06) Degrees\n",
            "Spot 3  :  (13.23+/-0.06) Degrees\n",
            "Spot 4  :  (3.39+/-0.06) Degrees\n",
            "Spot 5  :  (16.44+/-0.07) Degrees\n",
            "Spot 6  :  (15.85+/-0.07) Degrees\n",
            "Spot 7  :  (17.21+/-0.04) Degrees\n",
            "Spot 8  :  (13.71+/-0.04) Degrees\n",
            "Spot 9  :  (16.20+/-0.04) Degrees\n",
            "Spot 10  :  (31.64+/-0.05) Degrees\n",
            "Spot 11  :  (11.38+/-0.04) Degrees\n",
            "Spot 12  :  (6.26+/-0.05) Degrees\n",
            "Spot 13  :  (9.74+/-0.05) Degrees\n",
            "Spot 14  :  (2.35+/-0.06) Degrees\n",
            "Spot 15  :  (1.21+/-0.05) Degrees\n"
          ]
        }
      ]
    },
    {
      "cell_type": "code",
      "source": [
        "miniRadius = [[] for x in range(15)]\n",
        "miniCumFence = [[] for x in range(15)]\n",
        "kmPerDay = [[] for x in range(15)]\n",
        "\n",
        "for i in range(15):\n",
        "  miniRadius[i] = Rzero * um.cos(um.radians(meanLats[i]))\n",
        "  miniCumFence[i] = miniRadius[i]*2*np.pi\n",
        "  kmPerDay[i] = (miniCumFence[i]/360) * speeds[i]\n",
        "\n",
        "  print(f\"Spot {i+1}  :  Path radius ({miniRadius[i]:.2f}) : Path if full circle ({miniCumFence[i]:.2f}) : Km Traveled Per day ({kmPerDay[i]:.2f})\")"
      ],
      "metadata": {
        "id": "LbEEvt-nYguZ",
        "outputId": "cd0c9cd9-0aee-449c-9a3d-01f27809fd4d",
        "colab": {
          "base_uri": "https://localhost:8080/"
        }
      },
      "execution_count": 19,
      "outputs": [
        {
          "output_type": "stream",
          "name": "stdout",
          "text": [
            "Spot 1  :  Path radius (689545392.03+/-70532.23) : Path if full circle (4332541475.86+/-443167.06) : Km Traveled Per day (177325095.80+/-7866293.48)\n",
            "Spot 2  :  Path radius (688118227.11+/-103770.62) : Path if full circle (4323574334.16+/-652010.05) : Km Traveled Per day (180125330.09+/-20065528.19)\n",
            "Spot 3  :  Path radius (677210025.85+/-164302.71) : Path if full circle (4255036084.31+/-1032344.36) : Km Traveled Per day (175070212.69+/-19788115.90)\n",
            "Spot 4  :  Path radius (694441733.58+/-41440.14) : Path if full circle (4363306097.11+/-260376.07) : Km Traveled Per day (134223904.39+/-17374633.74)\n",
            "Spot 5  :  Path radius (667223036.71+/-238140.12) : Path if full circle (4192285980.87+/-1496278.49) : Km Traveled Per day (194354327.53+/-16635099.77)\n",
            "Spot 6  :  Path radius (669204762.88+/-229392.65) : Path if full circle (4204737533.62+/-1441316.53) : Km Traveled Per day (207704848.60+/-11858755.39)\n",
            "Spot 7  :  Path radius (664525695.37+/-144335.82) : Path if full circle (4175338085.41+/-906888.68) : Km Traveled Per day (143115725.42+/-6892488.36)\n",
            "Spot 8  :  Path radius (675832000.19+/-107912.78) : Path if full circle (4246377693.70+/-678035.97) : Km Traveled Per day (101999425.78+/-17436035.99)\n",
            "Spot 9  :  Path radius (668039832.19+/-143635.85) : Path if full circle (4197418058.21+/-902490.65) : Km Traveled Per day (156593096.50+/-7408507.88)\n",
            "Spot 10  :  Path radius (592257371.53+/-304854.60) : Path if full circle (3721262814.89+/-1915457.95) : Km Traveled Per day (110600169.09+/-8426745.76)\n",
            "Spot 11  :  Path radius (681987102.01+/-106412.61) : Path if full circle (4285051339.04+/-668610.18) : Km Traveled Per day (148056033.21+/-7652067.33)\n",
            "Spot 12  :  Path radius (691518250.54+/-69537.65) : Path if full circle (4344937311.41+/-436917.96) : Km Traveled Per day (152828938.64+/-14349820.16)\n",
            "Spot 13  :  Path radius (685636746.07+/-107352.92) : Path if full circle (4307982728.97+/-674518.30) : Km Traveled Per day (153944044.39+/-15423757.63)\n",
            "Spot 14  :  Path radius (695075478.55+/-29103.96) : Path if full circle (4367288034.22+/-182865.55) : Km Traveled Per day (125380551.75+/-24583241.34)\n",
            "Spot 15  :  Path radius (695505653.09+/-13606.22) : Path if full circle (4369990900.55+/-85490.38) : Km Traveled Per day (153891647.82+/-30789758.76)\n"
          ]
        }
      ]
    },
    {
      "cell_type": "code",
      "source": [
        "'''Moment of inertia stuff'''"
      ],
      "metadata": {
        "id": "GGbtJK2VzJSo"
      },
      "execution_count": null,
      "outputs": []
    },
    {
      "cell_type": "code",
      "source": [
        "help(uc)"
      ],
      "metadata": {
        "id": "i5GWo0XHzKsv"
      },
      "execution_count": null,
      "outputs": []
    },
    {
      "cell_type": "code",
      "source": [],
      "metadata": {
        "id": "GuAtUem5zrHk"
      },
      "execution_count": null,
      "outputs": []
    }
  ]
}
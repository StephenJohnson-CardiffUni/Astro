{
  "nbformat": 4,
  "nbformat_minor": 0,
  "metadata": {
    "colab": {
      "provenance": [],
      "include_colab_link": true
    },
    "kernelspec": {
      "name": "python3",
      "display_name": "Python 3"
    },
    "language_info": {
      "name": "python"
    }
  },
  "cells": [
    {
      "cell_type": "markdown",
      "metadata": {
        "id": "view-in-github",
        "colab_type": "text"
      },
      "source": [
        "<a href=\"https://colab.research.google.com/github/StephenJohnson-CardiffUni/Astro/blob/main/SunSpot.ipynb\" target=\"_parent\"><img src=\"https://colab.research.google.com/assets/colab-badge.svg\" alt=\"Open In Colab\"/></a>"
      ]
    },
    {
      "cell_type": "code",
      "execution_count": 27,
      "metadata": {
        "id": "bUvZIPJFIYj7"
      },
      "outputs": [],
      "source": [
        "'''Script to take and process sun data from given .fits files\n",
        "Manually taking down x,y,datetime for each sunspot'''\n",
        "import uncertainties as uc \n",
        "\n",
        "SOLAR = [ [] for _ in range(14) ]\n",
        "\n",
        "SOLAR[1] = {\n",
        "'DATE_OBS':[2002,1,1],\n",
        "'T':[1,35,30,150],\n",
        "'CENTER_X':5.124912719727E+02,\n",
        "'CENTER_Y':5.121821899414E+02,\n",
        "'R_SUN':4.976492972133E+02,\n",
        "1:[uc.ufloat(236,1),uc.ufloat(578,1)],\n",
        "2:[uc.ufloat(356,1),uc.ufloat(589,1)],\n",
        "3:[uc.ufloat(458,1),uc.ufloat(642,1)],\n",
        "4:[uc.ufloat(673,1),uc.ufloat(499,1)],\n",
        "5:[uc.ufloat(699,1),uc.ufloat(656,1)],\n",
        "6:[uc.ufloat(740,1),uc.ufloat(674,1)],\n",
        "7:[uc.ufloat(118,1),uc.ufloat(358,1)]\n",
        "}\n",
        "\n",
        "SOLAR[2] = {\n",
        "'DATE_OBS':[2002,1,2],\n",
        "'T':[6,23,30,143],\n",
        "'CENTER_X':5.126451416016E+02,\n",
        "'CENTER_Y':5.121716308594E+02,\n",
        "'R_SUN':4.976459074648E+02,\n",
        "1:[uc.ufloat(359,1),uc.ufloat(582,1)],\n",
        "2:[uc.ufloat(490,1),uc.ufloat(588,1)],\n",
        "3:[uc.ufloat(593,1),uc.ufloat(624,1)],\n",
        "4:[uc.ufloat(798,1),uc.ufloat(497,1)],\n",
        "5:[uc.ufloat(811,1),uc.ufloat(655,1)],\n",
        "6:[uc.ufloat(857,1),uc.ufloat(639,1)],\n",
        "7:[uc.ufloat(206,1),uc.ufloat(363,1)]\n",
        "}\n",
        "\n",
        "SOLAR[3] = {\n",
        "'DATE_OBS':[2002,1,3],\n",
        "'T':[20,43,30,137],\n",
        "'CENTER_X':5.129639485677E+02,\n",
        "'CENTER_Y':5.121700744629E+02,\n",
        "'R_SUN':4.976371283928E+02,\n",
        "1:[uc.ufloat(537,1),uc.ufloat(586,1)],\n",
        "2:[uc.ufloat(671,1),uc.ufloat(585,1)],\n",
        "3:[uc.ufloat(760,1),uc.ufloat(622,1)],\n",
        "4:[uc.ufloat(861,1),uc.ufloat(467,1)],\n",
        "5:[uc.ufloat(927,1),uc.ufloat(648,1)],\n",
        "6:[uc.ufloat(959,1),uc.ufloat(631,1)],\n",
        "7:[uc.ufloat(361,1),uc.ufloat(367,1)],\n",
        "8:[uc.ufloat(44,1),uc.ufloat(385,1),]\n",
        "}\n",
        "\n",
        "SOLAR[4] = {\n",
        "'DATE_OBS':[2002,1,5],\n",
        "'T':[11,11,30,133],\n",
        "'CENTER_X':5.128095703125E+02,\n",
        "'CENTER_Y':5.121723937988E+02,\n",
        "'R_SUN':4.976233208255E+02,\n",
        "1:[uc.ufloat(741,1),uc.ufloat(586,1)],\n",
        "2:[uc.ufloat(832,1),uc.ufloat(579,1)],\n",
        "3:[uc.ufloat(895,1),uc.ufloat(616,1)],\n",
        "4:[uc.ufloat(950,1),uc.ufloat(468,1)],\n",
        "7:[uc.ufloat(530,1),uc.ufloat(373,1)],\n",
        "8:[uc.ufloat(110,1),uc.ufloat(394,1)],\n",
        "9:[uc.ufloat(126,1),uc.ufloat(645,1)]\n",
        "}\n",
        "\n",
        "SOLAR[5] = {\n",
        "'DATE_OBS':[2002,1,6],\n",
        "'T':[20,27,30,132],\n",
        "'CENTER_X':5.129006856283E+02,\n",
        "'CENTER_Y':5.121798197428E+02,\n",
        "'R_SUN':4.976072535491E+02,\n",
        "1:[uc.ufloat(849,1),uc.ufloat(580,1)],\n",
        "7:[uc.ufloat(674,1),uc.ufloat(375,1)],\n",
        "8:[uc.ufloat(211,1),uc.ufloat(402,1)],\n",
        "9:[uc.ufloat(236,1),uc.ufloat(652,1)]\n",
        "}\n",
        "\n",
        "SOLAR[6] = {\n",
        "'DATE_OBS':[2002,1,7],\n",
        "'T':[23,59,30,131],\n",
        "'CENTER_X':5.128635253906E+02,\n",
        "'CENTER_Y':5.121746215820E+02,\n",
        "'R_SUN':4.975910001418E+02,\n",
        "1:[uc.ufloat(935,1),uc.ufloat(572,1)],\n",
        "7:[uc.ufloat(782,1),uc.ufloat(373,1)],\n",
        "8:[uc.ufloat(318,1),uc.ufloat(405,1)],\n",
        "9:[uc.ufloat(352,1),uc.ufloat(656,1)],\n",
        "10:[uc.ufloat(90,1),uc.ufloat(755,1)]\n",
        "}\n",
        "\n",
        "SOLAR[7] = {\n",
        "'DATE_OBS':[2002,1,9],\n",
        "'T':[6,23,30,130],\n",
        "'CENTER_X':5.128635253906E+02,\n",
        "'CENTER_Y':5.121746215820E+02,\n",
        "'R_SUN':4.975910001418E+02,\n",
        "1:[uc.ufloat(993,1),uc.ufloat(562,1)],\n",
        "7:[uc.ufloat(880,1),uc.ufloat(366,1)],\n",
        "8:[uc.ufloat(451,1),uc.ufloat(406,1)],\n",
        "9:[uc.ufloat(512,1),uc.ufloat(663,1)],\n",
        "10:[uc.ufloat(140,1),uc.ufloat(767,1)],\n",
        "11:[uc.ufloat(70,1),uc.ufloat(382,1)]\n",
        "}\n",
        "\n",
        "SOLAR[8] = {\n",
        "'DATE_OBS':[2002,1,10],\n",
        "'T':[11,11,30,130],\n",
        "'CENTER_X':5.127472534180E+02,\n",
        "'CENTER_Y':5.121821594238E+02,\n",
        "'R_SUN':4.975698944716E+02,\n",
        "7:[uc.ufloat(945,1),uc.ufloat(360,1)],\n",
        "8:[uc.ufloat(581,1),uc.ufloat(404,1)],\n",
        "9:[uc.ufloat(657,1),uc.ufloat(659,1)],\n",
        "10:[uc.ufloat(210,1),uc.ufloat(755,1)],\n",
        "11:[uc.ufloat(150,1),uc.ufloat(408,1)]\n",
        "}\n",
        "\n",
        "SOLAR[9] = {\n",
        "'DATE_OBS':[2002,1,11],\n",
        "'T':[19,11,30,129],\n",
        "'CENTER_X':5.131047363281E+02,\n",
        "'CENTER_Y':5.122049255371E+02,\n",
        "'R_SUN':4.975174082688E+02,\n",
        "7:[uc.ufloat(979,1),uc.ufloat(350,1)],\n",
        "8:[uc.ufloat(720,1),uc.ufloat(399,1)],\n",
        "9:[uc.ufloat(800,1),uc.ufloat(653,1)],\n",
        "10:[uc.ufloat(214,1),uc.ufloat(780,1)],\n",
        "11:[uc.ufloat(260,1),uc.ufloat(420,1)],\n",
        "12:[uc.ufloat(58,1),uc.ufloat(480,1)],\n",
        "13:[uc.ufloat(40,1),uc.ufloat(581,1)],\n",
        "15:[uc.ufloat(36,1),uc.ufloat(318,1)]\n",
        "}\n",
        "\n",
        "SOLAR[10] = {\n",
        "'DATE_OBS':[2002,1,12],\n",
        "'T':[23,59,30,128],\n",
        "'CENTER_X':5.130963745117E+02,\n",
        "'CENTER_Y':5.122990417480E+02,\n",
        "'R_SUN':4.974876625971E+02,\n",
        "8:[uc.ufloat(828,1),uc.ufloat(391,1)],\n",
        "9:[uc.ufloat(899,1),uc.ufloat(644,1)],\n",
        "10:[uc.ufloat(423,1),uc.ufloat(783,1)],\n",
        "11:[uc.ufloat(379,1),uc.ufloat(425,1)],\n",
        "12:[uc.ufloat(130,1),uc.ufloat(492,1)],\n",
        "13:[uc.ufloat(97,1),uc.ufloat(589,1)],\n",
        "14:[uc.ufloat(39,1),uc.ufloat(431,1)],\n",
        "15:[uc.ufloat(75,1),uc.ufloat(627,1)]\n",
        "}\n",
        "\n",
        "SOLAR[11] = {\n",
        "'DATE_OBS':[2002,1,14],\n",
        "'T':[6,23,30,127],\n",
        "'CENTER_X':5.128045349121E+02,\n",
        "'CENTER_Y':5.123047180176E+02,\n",
        "'R_SUN':4.974528064124E+02,\n",
        "8:[uc.ufloat(916,1),uc.ufloat(382,1)],\n",
        "9:[uc.ufloat(968,1),uc.ufloat(636,1)],\n",
        "10:[uc.ufloat(545,1),uc.ufloat(784,1)],\n",
        "11:[uc.ufloat(523,1),uc.ufloat(423,1)],\n",
        "12:[uc.ufloat(236,1),uc.ufloat(502,1)],\n",
        "13:[uc.ufloat(191,1),uc.ufloat(598,1)],\n",
        "14:[uc.ufloat(154,1),uc.ufloat(636,1)],\n",
        "15:[uc.ufloat(90,1),uc.ufloat(440,1)]\n",
        "}\n",
        "\n",
        "SOLAR[12] = {\n",
        "'DATE_OBS':[2002,1,15],\n",
        "'T':[11,11,30,125],\n",
        "'CENTER_X':5.128045349121E+02,\n",
        "'CENTER_Y':5.123047180176E+02,\n",
        "'R_SUN':4.974528064124E+02,\n",
        "8:[uc.ufloat(696,1),uc.ufloat(375,1)],\n",
        "10:[uc.ufloat(658,1),uc.ufloat(783,1)],\n",
        "11:[uc.ufloat(653,1),uc.ufloat(422,1)],\n",
        "12:[uc.ufloat(359,1),uc.ufloat(309,1)],\n",
        "13:[uc.ufloat(307,1),uc.ufloat(605,1)],\n",
        "14:[uc.ufloat(170,1),uc.ufloat(447,1)],\n",
        "15:[uc.ufloat(257,1),uc.ufloat(642,1)]\n",
        "}\n",
        "\n",
        "SOLAR[13] = {\n",
        "'DATE_OBS':[2002,1,16],\n",
        "'T':[17,35,30,123],\n",
        "'CENTER_X':5.130968627930E+02,\n",
        "'CENTER_Y':5.122782287598E+02,\n",
        "'R_SUN':4.973747211434E+02,\n",
        "10:[uc.ufloat(767,1),uc.ufloat(778,1)],\n",
        "11:[uc.ufloat(777,1),uc.ufloat(419,1)],\n",
        "12:[uc.ufloat(502,1),uc.ufloat(513,1)],\n",
        "13:[uc.ufloat(448,1),uc.ufloat(609,1)],\n",
        "14:[uc.ufloat(283,1),uc.ufloat(453,1)],\n",
        "15:[uc.ufloat(386,1),uc.ufloat(485,1)]\n",
        "}\n"
      ]
    },
    {
      "cell_type": "markdown",
      "source": [
        "Fresh, \"straight from the photos\" data above, Preperation of data for use bellow"
      ],
      "metadata": {
        "id": "qRwduXu15RLG"
      }
    },
    {
      "cell_type": "code",
      "source": [
        "'''\n",
        "Repack Data to be \"spot focused\" rather than the current \"picture focus\"\n",
        "Pictures 1->14\n",
        "Sunspots 1->15\n",
        "Each data needs poss[0], date[1],time[2], lat[3], long[4]\n",
        "'''\n",
        "import uncertainties.umath as um #um.asin | um.degrees\n",
        "import numpy as np\n",
        "import datetime\n",
        "\n",
        "spots = [[[[] for i in range(14)] for i in range(5)] for i in range(16)]\n",
        "\n",
        "for i in range(1,14):#pictures\n",
        "  for j in range(1,16):#spots\n",
        "\n",
        "    #Fast esc\n",
        "    if SOLAR[i].get(j) == None:\n",
        "      continue\n",
        "    \n",
        "    spots[j][0][i] = SOLAR[i].get(j) #X,Y\n",
        "\n",
        "    spots[j][1][i] = datetime.date(SOLAR[i].get('DATE_OBS')[0],SOLAR[i].get('DATE_OBS')[1],SOLAR[i].get('DATE_OBS')[2])#date as datetime object\n",
        "    spots[j][2][i] = SOLAR[i].get('T') #time - maybe useless\n",
        "\n",
        "    #lat\n",
        "    spots[j][3][i] = um.degrees(um.asin( ((spots[j][0][i][1])-SOLAR[i].get(\"CENTER_Y\")) / SOLAR[i].get(\"R_SUN\") ))\n",
        "\n",
        "    #long\n",
        "    spots[j][4][i] = um.degrees(um.asin( ((spots[j][0][i][0])-SOLAR[i].get(\"CENTER_X\")) / SOLAR[i].get(\"R_SUN\") ))"
      ],
      "metadata": {
        "id": "KIjQEk3aLVpy"
      },
      "execution_count": 28,
      "outputs": []
    },
    {
      "cell_type": "code",
      "source": [
        "'''Tidys out empty entries'''\n",
        "cleanedList = spots\n",
        "cleanedList = cleanedList[1:]\n",
        "\n",
        "for i in range(14,-1,-1):\n",
        "  # print(cleanedList[i])\n",
        "  for j in range(4,-1,-1):\n",
        "    # print(cleanedList[i][j])\n",
        "    for k in range(13,-1,-1):\n",
        "      #print(cleanedList[i][j][k])\n",
        "      if cleanedList[i][j][k] == []:\n",
        "        del cleanedList[i][j][k]"
      ],
      "metadata": {
        "id": "cyQfwx8oN5Fp"
      },
      "execution_count": 29,
      "outputs": []
    },
    {
      "cell_type": "code",
      "source": [
        "'''prepares the times for plotting'''\n",
        "import matplotlib.dates as dts\n",
        "\n",
        "timeList = [[] for i in range(16)] \n",
        "\n",
        "for i in range(len(cleanedList)):\n",
        "  timeList[i].append(cleanedList[i][1])\n",
        "\n",
        "\n",
        "for i in range(len(timeList)-1,-1,-1):\n",
        "  for j in range(len(timeList[i])-1,-1,-1):\n",
        "    timeList[i][j] = dts.date2num(timeList[i][j])"
      ],
      "metadata": {
        "id": "4sIFprdsZC5y"
      },
      "execution_count": 30,
      "outputs": []
    },
    {
      "cell_type": "code",
      "source": [
        "'''split by latitude'''\n",
        "meanLats = []\n",
        "for i in range(15):\n",
        "  meanLats.append(np.abs(np.mean(cleanedList[i][3])))\n",
        "\n",
        "\n",
        "'''<10 [0,1,3,11,12,13,14] , 10>x>20 [2,4,5,6,7,8,10] , <20 [9]''' "
      ],
      "metadata": {
        "colab": {
          "base_uri": "https://localhost:8080/",
          "height": 35
        },
        "id": "9KOi1u_ulvKZ",
        "outputId": "a42c2f44-0004-42d2-9528-e650dc8049d6"
      },
      "execution_count": 31,
      "outputs": [
        {
          "output_type": "execute_result",
          "data": {
            "text/plain": [
              "'<10 [0,1,3,11,12,13,14] , 10>x>20 [2,4,5,6,7,8,10] , <20 [9]'"
            ],
            "application/vnd.google.colaboratory.intrinsic+json": {
              "type": "string"
            }
          },
          "metadata": {},
          "execution_count": 31
        }
      ]
    },
    {
      "cell_type": "markdown",
      "source": [
        "Plotting data"
      ],
      "metadata": {
        "id": "L696nYZKkzAj"
      }
    },
    {
      "cell_type": "code",
      "source": [
        "import matplotlib.pyplot as plt\n",
        "\n",
        "'''low lats'''\n",
        "timeRange10=[]\n",
        "longs10=[]\n",
        "for i in [0,1,3,11,12,13,14]:\n",
        "  timeRange10.append(timeList[i][0])\n",
        "  longs10.append(cleanedList[i][4])\n",
        "\n",
        "for i in range(len(timeRange10)):\n",
        "  plt.plot(timeRange10[i],longs10[i])\n",
        "plt.xlabel(\"Time(Days)\")\n",
        "plt.ylabel(\"Longitude(Deg)\")\n",
        "plt.title(\"Low Latitude SunSpots\")\n",
        "\n",
        "plt.figure()\n",
        "\n",
        "'''med lats'''\n",
        "timeRange20=[]\n",
        "longs20=[]\n",
        "for i in [2,4,5,6,7,8,10]:\n",
        "  timeRange20.append(timeList[i][0])\n",
        "  longs20.append(cleanedList[i][4])\n",
        "\n",
        "for i in range(len(timeRange20)):\n",
        "  plt.plot(timeRange20[i],longs20[i])\n",
        "plt.xlabel(\"Time(Days)\")\n",
        "plt.ylabel(\"Longitude(Deg)\")\n",
        "plt.title(\"Mid Latitude SunSpots\")\n",
        "plt.figure()\n",
        "\n",
        "'''one high lat'''\n",
        "plt.plot(timeList[9][0],cleanedList[9][4])\n",
        "plt.xlabel(\"Time(Days)\")\n",
        "plt.ylabel(\"Longitude(Deg)\")\n",
        "plt.title(\"High Latitude SunSpots\")"
      ],
      "metadata": {
        "colab": {
          "base_uri": "https://localhost:8080/",
          "height": 632
        },
        "id": "IW-o7NoiikTD",
        "outputId": "d0f6ab40-cfed-4084-93c1-f8684bee5314"
      },
      "execution_count": 32,
      "outputs": [
        {
          "output_type": "error",
          "ename": "TypeError",
          "evalue": "ignored",
          "traceback": [
            "\u001b[0;31m---------------------------------------------------------------------------\u001b[0m",
            "\u001b[0;31mTypeError\u001b[0m                                 Traceback (most recent call last)",
            "\u001b[0;32m<ipython-input-32-c223c4e4460f>\u001b[0m in \u001b[0;36m<module>\u001b[0;34m\u001b[0m\n\u001b[1;32m      9\u001b[0m \u001b[0;34m\u001b[0m\u001b[0m\n\u001b[1;32m     10\u001b[0m \u001b[0;32mfor\u001b[0m \u001b[0mi\u001b[0m \u001b[0;32min\u001b[0m \u001b[0mrange\u001b[0m\u001b[0;34m(\u001b[0m\u001b[0mlen\u001b[0m\u001b[0;34m(\u001b[0m\u001b[0mtimeRange10\u001b[0m\u001b[0;34m)\u001b[0m\u001b[0;34m)\u001b[0m\u001b[0;34m:\u001b[0m\u001b[0;34m\u001b[0m\u001b[0;34m\u001b[0m\u001b[0m\n\u001b[0;32m---> 11\u001b[0;31m   \u001b[0mplt\u001b[0m\u001b[0;34m.\u001b[0m\u001b[0mplot\u001b[0m\u001b[0;34m(\u001b[0m\u001b[0mtimeRange10\u001b[0m\u001b[0;34m[\u001b[0m\u001b[0mi\u001b[0m\u001b[0;34m]\u001b[0m\u001b[0;34m,\u001b[0m\u001b[0mlongs10\u001b[0m\u001b[0;34m[\u001b[0m\u001b[0mi\u001b[0m\u001b[0;34m]\u001b[0m\u001b[0;34m)\u001b[0m\u001b[0;34m\u001b[0m\u001b[0;34m\u001b[0m\u001b[0m\n\u001b[0m\u001b[1;32m     12\u001b[0m \u001b[0mplt\u001b[0m\u001b[0;34m.\u001b[0m\u001b[0mxlabel\u001b[0m\u001b[0;34m(\u001b[0m\u001b[0;34m\"Time(Days)\"\u001b[0m\u001b[0;34m)\u001b[0m\u001b[0;34m\u001b[0m\u001b[0;34m\u001b[0m\u001b[0m\n\u001b[1;32m     13\u001b[0m \u001b[0mplt\u001b[0m\u001b[0;34m.\u001b[0m\u001b[0mylabel\u001b[0m\u001b[0;34m(\u001b[0m\u001b[0;34m\"Longitude(Deg)\"\u001b[0m\u001b[0;34m)\u001b[0m\u001b[0;34m\u001b[0m\u001b[0;34m\u001b[0m\u001b[0m\n",
            "\u001b[0;32m/usr/local/lib/python3.8/dist-packages/matplotlib/pyplot.py\u001b[0m in \u001b[0;36mplot\u001b[0;34m(scalex, scaley, data, *args, **kwargs)\u001b[0m\n\u001b[1;32m   2759\u001b[0m \u001b[0;34m@\u001b[0m\u001b[0mdocstring\u001b[0m\u001b[0;34m.\u001b[0m\u001b[0mcopy\u001b[0m\u001b[0;34m(\u001b[0m\u001b[0mAxes\u001b[0m\u001b[0;34m.\u001b[0m\u001b[0mplot\u001b[0m\u001b[0;34m)\u001b[0m\u001b[0;34m\u001b[0m\u001b[0;34m\u001b[0m\u001b[0m\n\u001b[1;32m   2760\u001b[0m \u001b[0;32mdef\u001b[0m \u001b[0mplot\u001b[0m\u001b[0;34m(\u001b[0m\u001b[0;34m*\u001b[0m\u001b[0margs\u001b[0m\u001b[0;34m,\u001b[0m \u001b[0mscalex\u001b[0m\u001b[0;34m=\u001b[0m\u001b[0;32mTrue\u001b[0m\u001b[0;34m,\u001b[0m \u001b[0mscaley\u001b[0m\u001b[0;34m=\u001b[0m\u001b[0;32mTrue\u001b[0m\u001b[0;34m,\u001b[0m \u001b[0mdata\u001b[0m\u001b[0;34m=\u001b[0m\u001b[0;32mNone\u001b[0m\u001b[0;34m,\u001b[0m \u001b[0;34m**\u001b[0m\u001b[0mkwargs\u001b[0m\u001b[0;34m)\u001b[0m\u001b[0;34m:\u001b[0m\u001b[0;34m\u001b[0m\u001b[0;34m\u001b[0m\u001b[0m\n\u001b[0;32m-> 2761\u001b[0;31m     return gca().plot(\n\u001b[0m\u001b[1;32m   2762\u001b[0m         *args, scalex=scalex, scaley=scaley, **({\"data\": data} if data\n\u001b[1;32m   2763\u001b[0m         is not None else {}), **kwargs)\n",
            "\u001b[0;32m/usr/local/lib/python3.8/dist-packages/matplotlib/axes/_axes.py\u001b[0m in \u001b[0;36mplot\u001b[0;34m(self, scalex, scaley, data, *args, **kwargs)\u001b[0m\n\u001b[1;32m   1647\u001b[0m         \u001b[0mlines\u001b[0m \u001b[0;34m=\u001b[0m \u001b[0;34m[\u001b[0m\u001b[0;34m*\u001b[0m\u001b[0mself\u001b[0m\u001b[0;34m.\u001b[0m\u001b[0m_get_lines\u001b[0m\u001b[0;34m(\u001b[0m\u001b[0;34m*\u001b[0m\u001b[0margs\u001b[0m\u001b[0;34m,\u001b[0m \u001b[0mdata\u001b[0m\u001b[0;34m=\u001b[0m\u001b[0mdata\u001b[0m\u001b[0;34m,\u001b[0m \u001b[0;34m**\u001b[0m\u001b[0mkwargs\u001b[0m\u001b[0;34m)\u001b[0m\u001b[0;34m]\u001b[0m\u001b[0;34m\u001b[0m\u001b[0;34m\u001b[0m\u001b[0m\n\u001b[1;32m   1648\u001b[0m         \u001b[0;32mfor\u001b[0m \u001b[0mline\u001b[0m \u001b[0;32min\u001b[0m \u001b[0mlines\u001b[0m\u001b[0;34m:\u001b[0m\u001b[0;34m\u001b[0m\u001b[0;34m\u001b[0m\u001b[0m\n\u001b[0;32m-> 1649\u001b[0;31m             \u001b[0mself\u001b[0m\u001b[0;34m.\u001b[0m\u001b[0madd_line\u001b[0m\u001b[0;34m(\u001b[0m\u001b[0mline\u001b[0m\u001b[0;34m)\u001b[0m\u001b[0;34m\u001b[0m\u001b[0;34m\u001b[0m\u001b[0m\n\u001b[0m\u001b[1;32m   1650\u001b[0m         \u001b[0mself\u001b[0m\u001b[0;34m.\u001b[0m\u001b[0m_request_autoscale_view\u001b[0m\u001b[0;34m(\u001b[0m\u001b[0mscalex\u001b[0m\u001b[0;34m=\u001b[0m\u001b[0mscalex\u001b[0m\u001b[0;34m,\u001b[0m \u001b[0mscaley\u001b[0m\u001b[0;34m=\u001b[0m\u001b[0mscaley\u001b[0m\u001b[0;34m)\u001b[0m\u001b[0;34m\u001b[0m\u001b[0;34m\u001b[0m\u001b[0m\n\u001b[1;32m   1651\u001b[0m         \u001b[0;32mreturn\u001b[0m \u001b[0mlines\u001b[0m\u001b[0;34m\u001b[0m\u001b[0;34m\u001b[0m\u001b[0m\n",
            "\u001b[0;32m/usr/local/lib/python3.8/dist-packages/matplotlib/axes/_base.py\u001b[0m in \u001b[0;36madd_line\u001b[0;34m(self, line)\u001b[0m\n\u001b[1;32m   1848\u001b[0m             \u001b[0mline\u001b[0m\u001b[0;34m.\u001b[0m\u001b[0mset_clip_path\u001b[0m\u001b[0;34m(\u001b[0m\u001b[0mself\u001b[0m\u001b[0;34m.\u001b[0m\u001b[0mpatch\u001b[0m\u001b[0;34m)\u001b[0m\u001b[0;34m\u001b[0m\u001b[0;34m\u001b[0m\u001b[0m\n\u001b[1;32m   1849\u001b[0m \u001b[0;34m\u001b[0m\u001b[0m\n\u001b[0;32m-> 1850\u001b[0;31m         \u001b[0mself\u001b[0m\u001b[0;34m.\u001b[0m\u001b[0m_update_line_limits\u001b[0m\u001b[0;34m(\u001b[0m\u001b[0mline\u001b[0m\u001b[0;34m)\u001b[0m\u001b[0;34m\u001b[0m\u001b[0;34m\u001b[0m\u001b[0m\n\u001b[0m\u001b[1;32m   1851\u001b[0m         \u001b[0;32mif\u001b[0m \u001b[0;32mnot\u001b[0m \u001b[0mline\u001b[0m\u001b[0;34m.\u001b[0m\u001b[0mget_label\u001b[0m\u001b[0;34m(\u001b[0m\u001b[0;34m)\u001b[0m\u001b[0;34m:\u001b[0m\u001b[0;34m\u001b[0m\u001b[0;34m\u001b[0m\u001b[0m\n\u001b[1;32m   1852\u001b[0m             \u001b[0mline\u001b[0m\u001b[0;34m.\u001b[0m\u001b[0mset_label\u001b[0m\u001b[0;34m(\u001b[0m\u001b[0;34m'_line%d'\u001b[0m \u001b[0;34m%\u001b[0m \u001b[0mlen\u001b[0m\u001b[0;34m(\u001b[0m\u001b[0mself\u001b[0m\u001b[0;34m.\u001b[0m\u001b[0mlines\u001b[0m\u001b[0;34m)\u001b[0m\u001b[0;34m)\u001b[0m\u001b[0;34m\u001b[0m\u001b[0;34m\u001b[0m\u001b[0m\n",
            "\u001b[0;32m/usr/local/lib/python3.8/dist-packages/matplotlib/axes/_base.py\u001b[0m in \u001b[0;36m_update_line_limits\u001b[0;34m(self, line)\u001b[0m\n\u001b[1;32m   1870\u001b[0m         \u001b[0mFigures\u001b[0m \u001b[0mout\u001b[0m \u001b[0mthe\u001b[0m \u001b[0mdata\u001b[0m \u001b[0mlimit\u001b[0m \u001b[0mof\u001b[0m \u001b[0mthe\u001b[0m \u001b[0mgiven\u001b[0m \u001b[0mline\u001b[0m\u001b[0;34m,\u001b[0m \u001b[0mupdating\u001b[0m \u001b[0mself\u001b[0m\u001b[0;34m.\u001b[0m\u001b[0mdataLim\u001b[0m\u001b[0;34m.\u001b[0m\u001b[0;34m\u001b[0m\u001b[0;34m\u001b[0m\u001b[0m\n\u001b[1;32m   1871\u001b[0m         \"\"\"\n\u001b[0;32m-> 1872\u001b[0;31m         \u001b[0mpath\u001b[0m \u001b[0;34m=\u001b[0m \u001b[0mline\u001b[0m\u001b[0;34m.\u001b[0m\u001b[0mget_path\u001b[0m\u001b[0;34m(\u001b[0m\u001b[0;34m)\u001b[0m\u001b[0;34m\u001b[0m\u001b[0;34m\u001b[0m\u001b[0m\n\u001b[0m\u001b[1;32m   1873\u001b[0m         \u001b[0;32mif\u001b[0m \u001b[0mpath\u001b[0m\u001b[0;34m.\u001b[0m\u001b[0mvertices\u001b[0m\u001b[0;34m.\u001b[0m\u001b[0msize\u001b[0m \u001b[0;34m==\u001b[0m \u001b[0;36m0\u001b[0m\u001b[0;34m:\u001b[0m\u001b[0;34m\u001b[0m\u001b[0;34m\u001b[0m\u001b[0m\n\u001b[1;32m   1874\u001b[0m             \u001b[0;32mreturn\u001b[0m\u001b[0;34m\u001b[0m\u001b[0;34m\u001b[0m\u001b[0m\n",
            "\u001b[0;32m/usr/local/lib/python3.8/dist-packages/matplotlib/lines.py\u001b[0m in \u001b[0;36mget_path\u001b[0;34m(self)\u001b[0m\n\u001b[1;32m   1025\u001b[0m         \"\"\"\n\u001b[1;32m   1026\u001b[0m         \u001b[0;32mif\u001b[0m \u001b[0mself\u001b[0m\u001b[0;34m.\u001b[0m\u001b[0m_invalidy\u001b[0m \u001b[0;32mor\u001b[0m \u001b[0mself\u001b[0m\u001b[0;34m.\u001b[0m\u001b[0m_invalidx\u001b[0m\u001b[0;34m:\u001b[0m\u001b[0;34m\u001b[0m\u001b[0;34m\u001b[0m\u001b[0m\n\u001b[0;32m-> 1027\u001b[0;31m             \u001b[0mself\u001b[0m\u001b[0;34m.\u001b[0m\u001b[0mrecache\u001b[0m\u001b[0;34m(\u001b[0m\u001b[0;34m)\u001b[0m\u001b[0;34m\u001b[0m\u001b[0;34m\u001b[0m\u001b[0m\n\u001b[0m\u001b[1;32m   1028\u001b[0m         \u001b[0;32mreturn\u001b[0m \u001b[0mself\u001b[0m\u001b[0;34m.\u001b[0m\u001b[0m_path\u001b[0m\u001b[0;34m\u001b[0m\u001b[0;34m\u001b[0m\u001b[0m\n\u001b[1;32m   1029\u001b[0m \u001b[0;34m\u001b[0m\u001b[0m\n",
            "\u001b[0;32m/usr/local/lib/python3.8/dist-packages/matplotlib/lines.py\u001b[0m in \u001b[0;36mrecache\u001b[0;34m(self, always)\u001b[0m\n\u001b[1;32m    673\u001b[0m         \u001b[0;32mif\u001b[0m \u001b[0malways\u001b[0m \u001b[0;32mor\u001b[0m \u001b[0mself\u001b[0m\u001b[0;34m.\u001b[0m\u001b[0m_invalidy\u001b[0m\u001b[0;34m:\u001b[0m\u001b[0;34m\u001b[0m\u001b[0;34m\u001b[0m\u001b[0m\n\u001b[1;32m    674\u001b[0m             \u001b[0myconv\u001b[0m \u001b[0;34m=\u001b[0m \u001b[0mself\u001b[0m\u001b[0;34m.\u001b[0m\u001b[0mconvert_yunits\u001b[0m\u001b[0;34m(\u001b[0m\u001b[0mself\u001b[0m\u001b[0;34m.\u001b[0m\u001b[0m_yorig\u001b[0m\u001b[0;34m)\u001b[0m\u001b[0;34m\u001b[0m\u001b[0;34m\u001b[0m\u001b[0m\n\u001b[0;32m--> 675\u001b[0;31m             \u001b[0my\u001b[0m \u001b[0;34m=\u001b[0m \u001b[0m_to_unmasked_float_array\u001b[0m\u001b[0;34m(\u001b[0m\u001b[0myconv\u001b[0m\u001b[0;34m)\u001b[0m\u001b[0;34m.\u001b[0m\u001b[0mravel\u001b[0m\u001b[0;34m(\u001b[0m\u001b[0;34m)\u001b[0m\u001b[0;34m\u001b[0m\u001b[0;34m\u001b[0m\u001b[0m\n\u001b[0m\u001b[1;32m    676\u001b[0m         \u001b[0;32melse\u001b[0m\u001b[0;34m:\u001b[0m\u001b[0;34m\u001b[0m\u001b[0;34m\u001b[0m\u001b[0m\n\u001b[1;32m    677\u001b[0m             \u001b[0my\u001b[0m \u001b[0;34m=\u001b[0m \u001b[0mself\u001b[0m\u001b[0;34m.\u001b[0m\u001b[0m_y\u001b[0m\u001b[0;34m\u001b[0m\u001b[0;34m\u001b[0m\u001b[0m\n",
            "\u001b[0;32m/usr/local/lib/python3.8/dist-packages/matplotlib/cbook/__init__.py\u001b[0m in \u001b[0;36m_to_unmasked_float_array\u001b[0;34m(x)\u001b[0m\n\u001b[1;32m   1315\u001b[0m         \u001b[0;32mreturn\u001b[0m \u001b[0mnp\u001b[0m\u001b[0;34m.\u001b[0m\u001b[0mma\u001b[0m\u001b[0;34m.\u001b[0m\u001b[0masarray\u001b[0m\u001b[0;34m(\u001b[0m\u001b[0mx\u001b[0m\u001b[0;34m,\u001b[0m \u001b[0mfloat\u001b[0m\u001b[0;34m)\u001b[0m\u001b[0;34m.\u001b[0m\u001b[0mfilled\u001b[0m\u001b[0;34m(\u001b[0m\u001b[0mnp\u001b[0m\u001b[0;34m.\u001b[0m\u001b[0mnan\u001b[0m\u001b[0;34m)\u001b[0m\u001b[0;34m\u001b[0m\u001b[0;34m\u001b[0m\u001b[0m\n\u001b[1;32m   1316\u001b[0m     \u001b[0;32melse\u001b[0m\u001b[0;34m:\u001b[0m\u001b[0;34m\u001b[0m\u001b[0;34m\u001b[0m\u001b[0m\n\u001b[0;32m-> 1317\u001b[0;31m         \u001b[0;32mreturn\u001b[0m \u001b[0mnp\u001b[0m\u001b[0;34m.\u001b[0m\u001b[0masarray\u001b[0m\u001b[0;34m(\u001b[0m\u001b[0mx\u001b[0m\u001b[0;34m,\u001b[0m \u001b[0mfloat\u001b[0m\u001b[0;34m)\u001b[0m\u001b[0;34m\u001b[0m\u001b[0;34m\u001b[0m\u001b[0m\n\u001b[0m\u001b[1;32m   1318\u001b[0m \u001b[0;34m\u001b[0m\u001b[0m\n\u001b[1;32m   1319\u001b[0m \u001b[0;34m\u001b[0m\u001b[0m\n",
            "\u001b[0;32m/usr/local/lib/python3.8/dist-packages/uncertainties/core.py\u001b[0m in \u001b[0;36mraise_error\u001b[0;34m(self)\u001b[0m\n\u001b[1;32m   2712\u001b[0m     \u001b[0;32mfor\u001b[0m \u001b[0mcoercion_type\u001b[0m \u001b[0;32min\u001b[0m \u001b[0;34m(\u001b[0m\u001b[0;34m'complex'\u001b[0m\u001b[0;34m,\u001b[0m \u001b[0;34m'int'\u001b[0m\u001b[0;34m,\u001b[0m \u001b[0;34m'long'\u001b[0m\u001b[0;34m,\u001b[0m \u001b[0;34m'float'\u001b[0m\u001b[0;34m)\u001b[0m\u001b[0;34m:\u001b[0m\u001b[0;34m\u001b[0m\u001b[0;34m\u001b[0m\u001b[0m\n\u001b[1;32m   2713\u001b[0m         \u001b[0;32mdef\u001b[0m \u001b[0mraise_error\u001b[0m\u001b[0;34m(\u001b[0m\u001b[0mself\u001b[0m\u001b[0;34m)\u001b[0m\u001b[0;34m:\u001b[0m\u001b[0;34m\u001b[0m\u001b[0;34m\u001b[0m\u001b[0m\n\u001b[0;32m-> 2714\u001b[0;31m             raise TypeError(\"can't convert an affine function (%s)\"\n\u001b[0m\u001b[1;32m   2715\u001b[0m                             \u001b[0;34m' to %s; use x.nominal_value'\u001b[0m\u001b[0;34m\u001b[0m\u001b[0;34m\u001b[0m\u001b[0m\n\u001b[1;32m   2716\u001b[0m                             \u001b[0;31m# In case AffineScalarFunc is sub-classed:\u001b[0m\u001b[0;34m\u001b[0m\u001b[0;34m\u001b[0m\u001b[0;34m\u001b[0m\u001b[0m\n",
            "\u001b[0;31mTypeError\u001b[0m: can't convert an affine function (<class 'uncertainties.core.AffineScalarFunc'>) to float; use x.nominal_value"
          ]
        },
        {
          "output_type": "display_data",
          "data": {
            "text/plain": [
              "<Figure size 432x288 with 1 Axes>"
            ],
            "image/png": "[encoded data removed]"
          },
          "metadata": {
            "needs_background": "light"
          }
        }
      ]
    },
    {
      "cell_type": "markdown",
      "source": [
        "Curve Fit"
      ],
      "metadata": {
        "id": "rExSLSNk963Z"
      }
    },
    {
      "cell_type": "code",
      "source": [
        "from scipy.optimize import curve_fit\n",
        "\n",
        "def lineFunc(x,m,c):\n",
        "  return (m*x)+c\n",
        "\n",
        "\n",
        "#array for curvefitdatas tolive in\n",
        "FullcurveData = [ [[]for i in range(2)] for i in range(len(timeList))]\n",
        "\n",
        "for i in range(len(timeList)-1):\n",
        "  popt,pcov = curve_fit(lineFunc,timeList[i][0],cleanedList[i][4])\n",
        "  FullcurveData[i][0] = popt\n",
        "  FullcurveData[i][1] = pcov\n",
        "  plt.plot(timeList[i][0],cleanedList[i][4],alpha=0.7)\n",
        "  plt.plot(timeList[i][0],lineFunc(timeList[i][0],FullcurveData[i][0][0],FullcurveData[i][0][1]),\"--\")\n",
        "  print(f\"Spot number {i+1} has slope of {FullcurveData[i][0][0]:.2f}\")\n",
        "  \n",
        "plt.xlabel(\"Time(Days)\");\n",
        "plt.ylabel(\"Longitude(Deg)\");\n",
        "plt.title(\"All SunSpots with Fit\");"
      ],
      "metadata": {
        "id": "H1RGzkSFKNK1"
      },
      "execution_count": null,
      "outputs": []
    },
    {
      "cell_type": "code",
      "source": [
        "#@title Hiding old code\n",
        "\n",
        "\n",
        "# highpopt,highpcov = curve_fit(lineFunc,timeList[9][0],cleanedList[9][4]) #takes an array for uncertainties, do that\n",
        "# print(f\"This sunspot travels at {highpopt[0]:.2f}(±{highpcov[0,0]:.2f}) longitude per day. With a mean lat of {meanLats[9]:.2f}\")\n",
        "\n",
        "# plt.plot(timeList[9][0],lineFunc(timeList[9][0],highpopt[0],highpopt[1]));\n",
        "# plt.plot(timeList[9][0],cleanedList[9][4]);\n",
        "# plt.title(\"Fit Vs Data\");\n",
        "\n",
        "\n",
        "# #array for curvefitdatas tolive in\n",
        "# curveData = [ [[]for i in range(2)] for i in range(len(timeRange10))]\n",
        "\n",
        "# for i in range(len(timeRange10)-1):\n",
        "#   popt,pcov = curve_fit(lineFunc,timeRange10[i],longs10[i])\n",
        "#   curveData[i][0] = popt\n",
        "#   curveData[i][1] = pcov\n",
        "#   plt.plot(timeRange10[i],longs10[i],alpha=0.8)\n",
        "#   plt.plot(timeRange10[i],lineFunc(timeRange10[i],curveData[i][0][0],curveData[i][0][1]))\n",
        "#   print(curveData[i][0][0])"
      ],
      "metadata": {
        "cellView": "form",
        "id": "aj8eLsuE98mX"
      },
      "execution_count": null,
      "outputs": []
    }
  ]
}
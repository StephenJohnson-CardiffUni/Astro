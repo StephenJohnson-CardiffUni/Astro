{
  "cells": [
    {
      "cell_type": "markdown",
      "metadata": {
        "id": "aPA3L4iOL_-5"
      },
      "source": [
        "# Data Science - Coursework 1 (35%)\n",
        "\n",
        "***\n",
        "\n",
        "## Short Style Data Science Questions\n",
        "### Deadline Friday week 6, 2pm."
      ]
    },
    {
      "cell_type": "markdown",
      "metadata": {
        "id": "Unh-QKlcL__H"
      },
      "source": [
        "***"
      ]
    },
    {
      "cell_type": "markdown",
      "metadata": {
        "id": "vNPWaDJVL__N"
      },
      "source": [
        "## Instructions"
      ]
    },
    {
      "cell_type": "markdown",
      "metadata": {
        "id": "rSE7d6sdL__Q"
      },
      "source": [
        "This coursework assesses learning outcomes from **Chapters 1 - 5** of the course."
      ]
    },
    {
      "cell_type": "markdown",
      "metadata": {
        "id": "PznX5TuOL__R"
      },
      "source": [
        "**These assessments are equivalent to an exam**:\n",
        "- Submit your work via Turn-It-In on Learning Central. Note that you will need to upload your final notebook exported as a pdf. **Don't forget to execute all of your cells before you export the notebook to pdf**.\n",
        "- You can constantly resubmit your turnitin document until the deadline.\n",
        "- The breakdown of the assessment criteria is provided in Learning Central under Assessment.\n",
        "- Don't forget to include **all code** (including for calculations) - your work should be entirely reproducible.\n",
        "- Don't worry about how your code looks - marks are not given for pretty code, but rather for the approach used in solving the problem, your reasoning, explanation and answer.\n",
        "- It is estimated that the workload required for this CA is approximately 15-20 hours."
      ]
    },
    {
      "cell_type": "markdown",
      "metadata": {
        "id": "kXJEhjswL__V"
      },
      "source": [
        "<div class=\"alert-info\">\n",
        "Please also take note of the University’s policy on plagiarism, which is outlined in your student handbook.\n",
        " </div>"
      ]
    },
    {
      "cell_type": "markdown",
      "metadata": {
        "id": "Qgs--PI9L__d"
      },
      "source": [
        "Plagiarism is the act of passing off the words or ideas of others as if your own. Advice on avoiding plagiarism is given in the UG Student Handbook. There is also considerable help and advice on Learning Central and the University web site. Students need to be especially careful of plagiarism in computing tasks and you are advised not to share code through electronic means. Students working together during their weekly exercises and the coursework is great (and indeed encouraged) but need to ensure that they are not using each other's code or text.\n",
        "\n",
        "This coursework will be submitted via Learning Central's Turnitin which automatically checks for plagiarism."
      ]
    },
    {
      "cell_type": "markdown",
      "metadata": {
        "id": "wkyaBB_PL__v"
      },
      "source": [
        "***"
      ]
    },
    {
      "cell_type": "markdown",
      "metadata": {
        "id": "uJzgdTieL__0"
      },
      "source": [
        "## QUESTION 1"
      ]
    },
    {
      "cell_type": "markdown",
      "source": [],
      "metadata": {
        "id": "cphwtX0qA3mz"
      }
    },
    {
      "cell_type": "code",
      "source": [
        "def passfunc(f):\n",
        "  return f*0.85\n",
        "\n",
        "#for the probability of all 3 passes you would multiply the probability for a single pass by itself 3 times...\n",
        "\n",
        "allPass = passfunc(1) * passfunc(1) * passfunc(1)\n",
        "print(allPass)\n",
        "\n",
        "#fail one module and pass the other 3 = pass*pass*(1-pass)\n",
        "oneFail = passfunc(1) * passfunc(1) * (1-passfunc(1))\n",
        "print(oneFail)\n",
        "\n",
        "#fail 2 modules\n",
        "twoFail = passfunc(1) * (1-passfunc(1)) * (1-passfunc(1))\n",
        "print(twoFail)\n",
        "\n",
        "#failAll\n",
        "allFail = (1-passfunc(1)) * (1-passfunc(1)) * (1-passfunc(1))\n",
        "print(allFail)\n",
        "\n",
        "#Add to one?\n",
        "print(allPass + oneFail + twoFail + allFail)"
      ],
      "metadata": {
        "id": "lSHBDxLEA26F",
        "outputId": "e63335d4-cd08-4567-c846-da6b65166d3b",
        "colab": {
          "base_uri": "https://localhost:8080/"
        }
      },
      "execution_count": 6,
      "outputs": [
        {
          "output_type": "stream",
          "name": "stdout",
          "text": [
            "0.6141249999999999\n",
            "0.108375\n",
            "0.019125000000000003\n",
            "0.0033750000000000013\n",
            "0.745\n"
          ]
        }
      ]
    },
    {
      "cell_type": "markdown",
      "metadata": {
        "id": "0TC0agg4L__3"
      },
      "source": [
        "\n",
        "**[10 marks]**"
      ]
    },
    {
      "cell_type": "markdown",
      "metadata": {
        "id": "kf60zcK0L__4"
      },
      "source": [
        "Answer:"
      ]
    },
    {
      "cell_type": "markdown",
      "metadata": {
        "id": "bQNiHHkGL__4"
      },
      "source": [
        "***"
      ]
    },
    {
      "cell_type": "markdown",
      "metadata": {
        "id": "2w9KGMhoL__6"
      },
      "source": [
        "##  QUESTION 2"
      ]
    },
    {
      "cell_type": "markdown",
      "metadata": {
        "id": "K07k4Wf1L__7"
      },
      "source": [
        "**[20 marks]**"
      ]
    },
    {
      "cell_type": "markdown",
      "metadata": {
        "id": "FtMgW4LBL__8"
      },
      "source": [
        "Answer:"
      ]
    },
    {
      "cell_type": "markdown",
      "metadata": {
        "id": "lsQiV7zxL__8"
      },
      "source": [
        "***"
      ]
    },
    {
      "cell_type": "markdown",
      "metadata": {
        "id": "E4b5VtB2L__9"
      },
      "source": [
        "## QUESTION 3"
      ]
    },
    {
      "cell_type": "markdown",
      "metadata": {
        "id": "hVm43a3gL__9"
      },
      "source": [
        "**[15 marks]**"
      ]
    },
    {
      "cell_type": "markdown",
      "metadata": {
        "id": "MuHrFNeOL__-"
      },
      "source": [
        "Answer:"
      ]
    },
    {
      "cell_type": "markdown",
      "metadata": {
        "id": "UHN9hpQmL__-"
      },
      "source": [
        "***"
      ]
    },
    {
      "cell_type": "markdown",
      "metadata": {
        "id": "Kj0K8KC6L___"
      },
      "source": [
        "## QUESTION 4"
      ]
    },
    {
      "cell_type": "markdown",
      "metadata": {
        "id": "htV1eoSrL___"
      },
      "source": [
        "**[25 marks]**"
      ]
    },
    {
      "cell_type": "markdown",
      "metadata": {
        "id": "AsGinbx3MAAD"
      },
      "source": [
        "Answer:"
      ]
    },
    {
      "cell_type": "markdown",
      "metadata": {
        "id": "3bNFe4_7MAAE"
      },
      "source": [
        "***"
      ]
    },
    {
      "cell_type": "markdown",
      "metadata": {
        "id": "AG1cqwGxMAAE"
      },
      "source": [
        "## QUESTION 5"
      ]
    },
    {
      "cell_type": "markdown",
      "metadata": {
        "id": "D95Iv0pGMAAE"
      },
      "source": [
        "**[30 marks]**"
      ]
    },
    {
      "cell_type": "markdown",
      "metadata": {
        "id": "-MmKS_W_MAAF"
      },
      "source": [
        "Answer:"
      ]
    }
  ],
  "metadata": {
    "kernelspec": {
      "display_name": "Python 3 (ipykernel)",
      "language": "python",
      "name": "python3"
    },
    "language_info": {
      "codemirror_mode": {
        "name": "ipython",
        "version": 3
      },
      "file_extension": ".py",
      "mimetype": "text/x-python",
      "name": "python",
      "nbconvert_exporter": "python",
      "pygments_lexer": "ipython3",
      "version": "3.9.13"
    },
    "colab": {
      "provenance": []
    }
  },
  "nbformat": 4,
  "nbformat_minor": 0
}
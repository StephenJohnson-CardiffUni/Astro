{
  "cells": [
    {
      "cell_type": "markdown",
      "metadata": {
        "id": "view-in-github",
        "colab_type": "text"
      },
      "source": [
        "<a href=\"https://colab.research.google.com/github/StephenJohnson-CardiffUni/Astro/blob/main/blended_exercises/Chapter2/Chapter2_yourturn.ipynb\" target=\"_parent\"><img src=\"https://colab.research.google.com/assets/colab-badge.svg\" alt=\"Open In Colab\"/></a>"
      ]
    },
    {
      "cell_type": "markdown",
      "metadata": {
        "id": "YoMn2EV3GWkQ"
      },
      "source": [
        "# To be completed at the Live Session and in your own time.\n",
        "\n",
        "These set of examples we will help you get familiar with estimating probabilities and using Bayes Theorem within a Jupyter notebook. The questions coloured green are important practice for CA.\n",
        "\n",
        "Before attempting these examples, please ensure you have read through [Chapter 2 Jupyter Notebook](https://github.com/haleygomez/Data-Science-2024/blob/main/blended_exercises/Chapter2/Chapter2.ipynb) and have completed the Learning Central **Chapter 2 quiz**.\n",
        "\n",
        "These are good practice for CA 1 Questions 1 and 4."
      ]
    },
    {
      "cell_type": "markdown",
      "metadata": {
        "id": "vaGW4Ib6GWkS"
      },
      "source": [
        "***"
      ]
    },
    {
      "cell_type": "markdown",
      "metadata": {
        "id": "9PIK8WyTGWkT"
      },
      "source": [
        "# Probabilities"
      ]
    },
    {
      "cell_type": "markdown",
      "metadata": {
        "id": "m1lMqGWlGWkT"
      },
      "source": [
        "***"
      ]
    },
    {
      "cell_type": "markdown",
      "metadata": {
        "id": "Q0rL-ZyxGWkT"
      },
      "source": [
        "## Question"
      ]
    },
    {
      "cell_type": "markdown",
      "metadata": {
        "id": "bbHEpfKDGWkT"
      },
      "source": [
        "You want to send a document to your bank and it is very important it gets there the next day. You therefore send two copies of the document using Hermes (delivery service $A$) and the Royal Mail (delivery service $B$).  The probabilities of those companies delivering on time are:\n",
        "\n",
        "- 0.90 for service A\n",
        "- 0.80 for service B\n",
        "- 0.75 for both services being on time.\n",
        "\n",
        "Does your strategy improve the chances the document will be delivered on time?"
      ]
    },
    {
      "cell_type": "markdown",
      "metadata": {
        "id": "Ord8fKqsGWkT"
      },
      "source": [
        "### Answer"
      ]
    },
    {
      "cell_type": "code",
      "source": [
        "#if the 2 events (delivery of item) are independant then the product of the 2 outcomes can be used\n",
        "PserviceA = 0.9\n",
        "PserviceB = 0.8\n",
        "PserviceBoth = 0.75\n",
        "\n",
        "Pdelivered = PserviceA * PserviceB\n",
        "\n",
        "print(Pdelivered)"
      ],
      "metadata": {
        "id": "veksi4onKVaj",
        "outputId": "380ed96f-c8a2-4907-807e-6758c6774acb",
        "colab": {
          "base_uri": "https://localhost:8080/"
        }
      },
      "execution_count": 5,
      "outputs": [
        {
          "output_type": "stream",
          "name": "stdout",
          "text": [
            "0.7200000000000001\n"
          ]
        }
      ]
    },
    {
      "cell_type": "code",
      "source": [
        "#using the P(A∪B) = P(A) + P(B) − P(A∩B)\n",
        "\n",
        "Pdelivered2 = PserviceA + PserviceB - PserviceBoth\n",
        "\n",
        "print(Pdelivered2)"
      ],
      "metadata": {
        "id": "yWjqQKxJNjc-",
        "outputId": "2ad55a9b-a8f5-48e2-8891-b3412690bb22",
        "colab": {
          "base_uri": "https://localhost:8080/"
        }
      },
      "execution_count": 6,
      "outputs": [
        {
          "output_type": "stream",
          "name": "stdout",
          "text": [
            "0.9500000000000002\n"
          ]
        }
      ]
    },
    {
      "cell_type": "markdown",
      "metadata": {
        "id": "OsppYehfGWkT"
      },
      "source": [
        "*Your answer here.*"
      ]
    },
    {
      "cell_type": "markdown",
      "metadata": {
        "id": "pY0id8imGWkU"
      },
      "source": [
        "***"
      ]
    },
    {
      "cell_type": "markdown",
      "metadata": {
        "id": "o_ht-0H7GWkU"
      },
      "source": [
        "## <font color=#30a64d>Question</font>"
      ]
    },
    {
      "cell_type": "markdown",
      "metadata": {
        "id": "pEoJ5HYGGWkU"
      },
      "source": [
        "You flip a coin 5 times. What is the probability that heads will not occur 3 times?    "
      ]
    },
    {
      "cell_type": "markdown",
      "metadata": {
        "id": "npHXxIMNGWkU"
      },
      "source": [
        "### Answer"
      ]
    },
    {
      "cell_type": "code",
      "source": [
        "#flipping a coin 5 times gives 2^5 (2 outcomes raised to 5 flips) or 32 possiable outcomes\n",
        "#we can use binomial theorm, n choose k, if find outcome likelyhoods\n",
        "\n",
        "from math import comb #libary for combinatorics\n",
        "\n",
        "heads0 = comb(5,0)\n",
        "heads1 = comb(5,1)\n",
        "heads2 = comb(5,2)\n",
        "\n",
        "not3Heads = heads0 + heads1 + heads2\n",
        "print(not3Heads)"
      ],
      "metadata": {
        "id": "_0x0j2loOcec",
        "outputId": "c0b40421-d630-4668-d49f-73a6ebff98ef",
        "colab": {
          "base_uri": "https://localhost:8080/"
        }
      },
      "execution_count": 18,
      "outputs": [
        {
          "output_type": "stream",
          "name": "stdout",
          "text": [
            "16\n"
          ]
        }
      ]
    },
    {
      "cell_type": "markdown",
      "metadata": {
        "id": "YXZrIcQUGWkU"
      },
      "source": [
        "*Your answer here.*"
      ]
    },
    {
      "cell_type": "markdown",
      "metadata": {
        "id": "XPFj3gg3GWkU"
      },
      "source": [
        "***"
      ]
    },
    {
      "cell_type": "markdown",
      "metadata": {
        "id": "xphjOb2WGWkU"
      },
      "source": [
        "# Bayes Theorem"
      ]
    },
    {
      "cell_type": "markdown",
      "metadata": {
        "id": "lKBnkVOCGWkU"
      },
      "source": [
        "## <font color=#30a64d>Question</font>"
      ]
    },
    {
      "cell_type": "markdown",
      "metadata": {
        "id": "5UZAUnmFGWkU"
      },
      "source": [
        "Suppose you think you have a rare disease where 1 in 10,000 people are affected. You go to your doctor, and she performs a test. The test is of a high quality, and is correct 99% of the time.\n",
        "\n",
        "Unfortunately your results come back positive for the disease. What is your chance of having the disease? Is it (roughly): <br><br>\n",
        "\n",
        "a) 99% <br>\n",
        "b) 90% <br>\n",
        "c) 10% or <br>\n",
        "d) 1%? <br> <br>\n",
        "\n",
        "Repeat the same as above, but change 1 in 10,000 to 1 in 100. What would the chances of having the disease be now?"
      ]
    },
    {
      "cell_type": "markdown",
      "metadata": {
        "id": "DdKifkR0GWkU"
      },
      "source": [
        "### Answer"
      ]
    },
    {
      "cell_type": "markdown",
      "metadata": {
        "id": "k2qu9bHMGWkU"
      },
      "source": [
        "*Your answer here.*"
      ]
    },
    {
      "cell_type": "markdown",
      "metadata": {
        "id": "_BdSL6PEGWkV"
      },
      "source": [
        "## Question"
      ]
    },
    {
      "cell_type": "markdown",
      "metadata": {
        "id": "rRHU7teQGWkV"
      },
      "source": [
        "We saw in [Chapter 2 Notebook](https://github.com/haleygomez/Data-Science-2024/blob/master/blended_exercises/Chapter2/Chapter2.ipynb) that the probability that a couple has 2 children that are boys when the older child is a boy is 50%.\n",
        "\n",
        "What about the following scenario: a couple has two children, of which at least one is a boy. If the probabilities of having a boy or a girl are both 50%, what is the probability that the couple has two boys?\n",
        "\n",
        "At first glance, this appears to be asking the same question as in our previous notebook. We might reason as follows: “We know that one is a boy, so the only question is whether the other one is a boy, and the chances of that being the case are 50%. So again, the answer is 50%.”\n",
        "\n",
        "Although this sounds common sense, it is incorrect.  Show why."
      ]
    },
    {
      "cell_type": "markdown",
      "metadata": {
        "id": "RjyFv6A9GWkV"
      },
      "source": [
        "### Answer"
      ]
    },
    {
      "cell_type": "markdown",
      "metadata": {
        "id": "Srok2NqeGWkV"
      },
      "source": [
        "*Your answer here.*"
      ]
    }
  ],
  "metadata": {
    "kernelspec": {
      "display_name": "Python 3 (ipykernel)",
      "language": "python",
      "name": "python3"
    },
    "language_info": {
      "codemirror_mode": {
        "name": "ipython",
        "version": 3
      },
      "file_extension": ".py",
      "mimetype": "text/x-python",
      "name": "python",
      "nbconvert_exporter": "python",
      "pygments_lexer": "ipython3",
      "version": "3.9.13"
    },
    "colab": {
      "provenance": [],
      "include_colab_link": true
    }
  },
  "nbformat": 4,
  "nbformat_minor": 0
}
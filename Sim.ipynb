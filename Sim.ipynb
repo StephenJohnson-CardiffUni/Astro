{
  "nbformat": 4,
  "nbformat_minor": 0,
  "metadata": {
    "colab": {
      "provenance": [],
      "authorship_tag": "ABX9TyPPT3XmgePzj1L0IVR1L+/c",
      "include_colab_link": true
    },
    "kernelspec": {
      "name": "python3",
      "display_name": "Python 3"
    },
    "language_info": {
      "name": "python"
    }
  },
  "cells": [
    {
      "cell_type": "markdown",
      "metadata": {
        "id": "view-in-github",
        "colab_type": "text"
      },
      "source": [
        "<a href=\"https://colab.research.google.com/github/StephenJohnson-CardiffUni/Astro/blob/main/Sim.ipynb\" target=\"_parent\"><img src=\"https://colab.research.google.com/assets/colab-badge.svg\" alt=\"Open In Colab\"/></a>"
      ]
    },
    {
      "cell_type": "code",
      "execution_count": 10,
      "metadata": {
        "id": "LVHYmC8ISKZL",
        "colab": {
          "base_uri": "https://localhost:8080/",
          "height": 36
        },
        "outputId": "46d8b4c9-2e61-459c-cf44-2a89a371a265"
      },
      "outputs": [
        {
          "output_type": "execute_result",
          "data": {
            "text/plain": [
              "'Flow\\nCreate planets\\nFrame:\\n  calc forces/accel\\n  apply\\n  show\\n'"
            ],
            "application/vnd.google.colaboratory.intrinsic+json": {
              "type": "string"
            }
          },
          "metadata": {},
          "execution_count": 10
        }
      ],
      "source": [
        "'''Astro sim F = ma, f = GMm/r**2\n",
        "so a = f/m, a = GM/r**2'''\n",
        "import numpy as np\n",
        "from scipy import constants as consts\n",
        "\n",
        "G = consts.G\n",
        "\n",
        "class planet:\n",
        "  def __init__(self,name,mass,semiMajor):\n",
        "    self.name = name\n",
        "    self.mass = mass\n",
        "    self.semiMajor = semiMajor\n",
        "\n",
        "def accel(p1,p2):\n",
        "  return (G*p1.mass)/p2.semiMajor**2\n",
        "\n",
        "\n",
        "\n",
        "'''Flow\n",
        "Create planets\n",
        "Frame:\n",
        "  calc forces/accel\n",
        "  apply\n",
        "  show\n",
        "'''"
      ]
    },
    {
      "cell_type": "code",
      "source": [
        "Earth = planet(earth,6*10**24,1.5*10**24)"
      ],
      "metadata": {
        "colab": {
          "base_uri": "https://localhost:8080/",
          "height": 165
        },
        "id": "OGnZJQy6klSk",
        "outputId": "e320ad46-a1be-4873-8e31-03682f625e3d"
      },
      "execution_count": 11,
      "outputs": [
        {
          "output_type": "error",
          "ename": "NameError",
          "evalue": "ignored",
          "traceback": [
            "\u001b[0;31m---------------------------------------------------------------------------\u001b[0m",
            "\u001b[0;31mNameError\u001b[0m                                 Traceback (most recent call last)",
            "\u001b[0;32m<ipython-input-11-5db5cda2c4d6>\u001b[0m in \u001b[0;36m<module>\u001b[0;34m\u001b[0m\n\u001b[0;32m----> 1\u001b[0;31m \u001b[0mEarth\u001b[0m \u001b[0;34m=\u001b[0m \u001b[0mplanet\u001b[0m\u001b[0;34m(\u001b[0m\u001b[0mearth\u001b[0m\u001b[0;34m,\u001b[0m\u001b[0;36m6\u001b[0m\u001b[0;34m*\u001b[0m\u001b[0;36m10\u001b[0m\u001b[0;34m**\u001b[0m\u001b[0;36m24\u001b[0m\u001b[0;34m,\u001b[0m\u001b[0;36m1.5\u001b[0m\u001b[0;34m*\u001b[0m\u001b[0;36m10\u001b[0m\u001b[0;34m**\u001b[0m\u001b[0;36m24\u001b[0m\u001b[0;34m)\u001b[0m\u001b[0;34m\u001b[0m\u001b[0;34m\u001b[0m\u001b[0m\n\u001b[0m",
            "\u001b[0;31mNameError\u001b[0m: name 'earth' is not defined"
          ]
        }
      ]
    }
  ]
}
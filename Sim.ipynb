{
  "nbformat": 4,
  "nbformat_minor": 0,
  "metadata": {
    "colab": {
      "provenance": [],
      "authorship_tag": "ABX9TyP5LMIMeu9CkuIyQ7sWJh1u",
      "include_colab_link": true
    },
    "kernelspec": {
      "name": "python3",
      "display_name": "Python 3"
    },
    "language_info": {
      "name": "python"
    }
  },
  "cells": [
    {
      "cell_type": "markdown",
      "metadata": {
        "id": "view-in-github",
        "colab_type": "text"
      },
      "source": [
        "<a href=\"https://colab.research.google.com/github/StephenJohnson-CardiffUni/Astro/blob/main/Sim.ipynb\" target=\"_parent\"><img src=\"https://colab.research.google.com/assets/colab-badge.svg\" alt=\"Open In Colab\"/></a>"
      ]
    },
    {
      "cell_type": "code",
      "execution_count": 1,
      "metadata": {
        "id": "LVHYmC8ISKZL",
        "colab": {
          "base_uri": "https://localhost:8080/",
          "height": 36
        },
        "outputId": "b81ffe5c-7515-4ca7-e63b-3ad5ba1496bb"
      },
      "outputs": [
        {
          "output_type": "execute_result",
          "data": {
            "text/plain": [
              "'Flow\\nCreate planets\\nFrame:\\n  calc forces/accel\\n  apply\\n  show\\n'"
            ],
            "application/vnd.google.colaboratory.intrinsic+json": {
              "type": "string"
            }
          },
          "metadata": {},
          "execution_count": 1
        }
      ],
      "source": [
        "'''Astro sim F = ma, f = GMm/r**2\n",
        "so a = f/m, a = GM/r**2'''\n",
        "'''\n",
        "Flow\n",
        "def classs and functions\n",
        "Create planets\n",
        "Frame:\n",
        "  calc forces/accel\n",
        "  apply\n",
        "  show\n",
        "'''\n",
        "import numpy as np\n",
        "from scipy import constants as consts\n",
        "\n",
        "G = consts.G\n",
        "\n",
        "class planet:\n",
        "  def __init__(self,name,mass,semiMajor):\n",
        "    self.name = name\n",
        "    self.mass = mass\n",
        "    self.semiMajor = semiMajor\n",
        "\n",
        "def accel(p1,p2):\n",
        "  return (G*p1.mass)/p2.semiMajor**2\n",
        "\n"
      ]
    },
    {
      "cell_type": "code",
      "source": [
        "Planets = []\n",
        "\n",
        "Planets[0] = planet(\"Sun\",2*10**30,0)\n",
        "Planets[1] = planet(\"Earth\",6*10**24,1.5*10**11)\n",
        "\n",
        "for i in range(10):\n",
        "  "
      ],
      "metadata": {
        "id": "x0arNRERCZwe",
        "outputId": "9d0a1259-08ff-46cf-c3b8-61e7015f8c7e",
        "colab": {
          "base_uri": "https://localhost:8080/",
          "height": 200
        }
      },
      "execution_count": 6,
      "outputs": [
        {
          "output_type": "error",
          "ename": "TypeError",
          "evalue": "ignored",
          "traceback": [
            "\u001b[0;31m---------------------------------------------------------------------------\u001b[0m",
            "\u001b[0;31mTypeError\u001b[0m                                 Traceback (most recent call last)",
            "\u001b[0;32m<ipython-input-6-31a03e2b449e>\u001b[0m in \u001b[0;36m<module>\u001b[0;34m\u001b[0m\n\u001b[1;32m      3\u001b[0m \u001b[0;34m\u001b[0m\u001b[0m\n\u001b[1;32m      4\u001b[0m \u001b[0;32mfor\u001b[0m \u001b[0mi\u001b[0m \u001b[0;32min\u001b[0m \u001b[0mrange\u001b[0m\u001b[0;34m(\u001b[0m\u001b[0;36m10\u001b[0m\u001b[0;34m)\u001b[0m\u001b[0;34m:\u001b[0m\u001b[0;34m\u001b[0m\u001b[0;34m\u001b[0m\u001b[0m\n\u001b[0;32m----> 5\u001b[0;31m   \u001b[0mprint\u001b[0m\u001b[0;34m(\u001b[0m\u001b[0maccel\u001b[0m\u001b[0;34m(\u001b[0m\u001b[0mSol\u001b[0m\u001b[0;34m)\u001b[0m\u001b[0;34m,\u001b[0m\u001b[0maccel\u001b[0m\u001b[0;34m(\u001b[0m\u001b[0mEarth\u001b[0m\u001b[0;34m)\u001b[0m\u001b[0;34m)\u001b[0m\u001b[0;34m\u001b[0m\u001b[0;34m\u001b[0m\u001b[0m\n\u001b[0m",
            "\u001b[0;31mTypeError\u001b[0m: accel() missing 1 required positional argument: 'p2'"
          ]
        }
      ]
    },
    {
      "cell_type": "code",
      "source": [],
      "metadata": {
        "id": "RVr2_5z_DWNS"
      },
      "execution_count": null,
      "outputs": []
    }
  ]
}
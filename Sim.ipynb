{
  "nbformat": 4,
  "nbformat_minor": 0,
  "metadata": {
    "colab": {
      "provenance": [],
      "authorship_tag": "ABX9TyODE6QMbGKMCSz2PImHsmEB",
      "include_colab_link": true
    },
    "kernelspec": {
      "name": "python3",
      "display_name": "Python 3"
    },
    "language_info": {
      "name": "python"
    }
  },
  "cells": [
    {
      "cell_type": "markdown",
      "metadata": {
        "id": "view-in-github",
        "colab_type": "text"
      },
      "source": [
        "<a href=\"https://colab.research.google.com/github/StephenJohnson-CardiffUni/Astro/blob/main/Sim.ipynb\" target=\"_parent\"><img src=\"https://colab.research.google.com/assets/colab-badge.svg\" alt=\"Open In Colab\"/></a>"
      ]
    },
    {
      "cell_type": "code",
      "execution_count": null,
      "metadata": {
        "id": "LVHYmC8ISKZL"
      },
      "outputs": [],
      "source": [
        "'''Astro sim F = ma, f = GMm/r**2\n",
        "so a = f/m, a = GM/r**2'''\n",
        "import numpy as np\n",
        "\n",
        "class planet:\n",
        "  ___init___(name,mass,semiMajor)\n",
        "  self.name = name\n",
        "  self.mass = mass\n",
        "  self.semiMajor = semiMajor\n",
        "\n",
        "def accel(p1,p2):\n",
        "  a = \n",
        "\n",
        "'''Flow\n",
        "Create planets\n",
        "Frame:\n",
        "  calc forces/accel\n",
        "  apply\n",
        "  show\n",
        "'''"
      ]
    }
  ]
}
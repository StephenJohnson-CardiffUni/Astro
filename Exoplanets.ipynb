{
  "nbformat": 4,
  "nbformat_minor": 0,
  "metadata": {
    "colab": {
      "provenance": [],
      "authorship_tag": "ABX9TyP1TVVMaRzwDaDfQmv9TnTz",
      "include_colab_link": true
    },
    "kernelspec": {
      "name": "python3",
      "display_name": "Python 3"
    },
    "language_info": {
      "name": "python"
    }
  },
  "cells": [
    {
      "cell_type": "markdown",
      "metadata": {
        "id": "view-in-github",
        "colab_type": "text"
      },
      "source": [
        "<a href=\"https://colab.research.google.com/github/StephenJohnson-CardiffUni/Astro/blob/main/Exoplanets.ipynb\" target=\"_parent\"><img src=\"https://colab.research.google.com/assets/colab-badge.svg\" alt=\"Open In Colab\"/></a>"
      ]
    },
    {
      "cell_type": "code",
      "execution_count": null,
      "metadata": {
        "id": "7E-r0E4Uq-1E"
      },
      "outputs": [],
      "source": [
        "import datetime\n",
        "import matplotlib.pyplot as plt\n",
        "import numpy as np\n",
        "\n",
        "timeStamps = [datetime.datetime(2011,8,23,4,32,20),\n",
        "              datetime.datetime(2011,8,23,4,43,9),\n",
        "              datetime.datetime(2011,8,23,4,55,25),\n",
        "              datetime.datetime(2011,8,23,5,7,43),\n",
        "              datetime.datetime(2011,8,23,5,21,5),\n",
        "              datetime.datetime(2011,8,23,5,33,25),\n",
        "              datetime.datetime(2011,8,23,5,45),\n",
        "              datetime.datetime(2011,8,23,5,56,35),\n",
        "              datetime.datetime(2011,8,23,6,8,11),\n",
        "              datetime.datetime(2011,8,23,6,19,44),\n",
        "              datetime.datetime(2011,8,23,6,31,20),\n",
        "              datetime.datetime(2011,8,23,6,42,55)]\n",
        "\n",
        "target = np.array([174720,172740,173570,173050,171930,170930,168850,169600,171170,173040,174280,175240])\n",
        "cali1 = np.array([20237,19611,20348,20088,19814,19935,19974,19651,19669,19859,19709,19714])\n",
        "cali2 = np.array([131030,129550,131360,132410,132600,131560,129820,130280,131280,131050,132030,131800])\n",
        "cali3 = np.array([42526,42131,43010,43347,43303,42700,42553,42273,42262,43045,42483,42979])\n",
        "\n",
        "normed1 = target/cali1\n",
        "normed2 = target/cali2\n",
        "normed3 = target/cali3\n",
        "\n",
        "plt.plot(timeStamps,normed1)\n",
        "plt.figure()\n",
        "plt.plot(timeStamps,normed2)\n",
        "plt.figure()\n",
        "plt.plot(timeStamps,normed3)\n",
        "\n",
        "\n",
        "'''Crazy mean taking madness'''\n",
        "meanResult = np.zeros(len(timeStamps))\n",
        "for i in range(len(timeStamps)):\n",
        "  meanResult[i] = np.mean([normed1[i],normed2[i],normed3[i]])\n",
        "\n",
        "plt.figure()\n",
        "plt.plot(timeStamps,meanResult)\n"
      ]
    },
    {
      "cell_type": "code",
      "source": [
        "'''Combined keplers 3rd and transit time eq, looking for a\n",
        "\n",
        "Kep     | P = (2pi*a^3/2)/(GM)^1/2\n",
        "transit | a = (P*Rstar)/T*pi\n",
        "\n",
        "'''\n",
        "import scipy.constants as con\n",
        "T     = 6551                  #s\n",
        "Rstar = (0.823)*(6.96*10**8)  #m\n",
        "Mstar = (0.85) *(2*10**30)    #kg\n",
        "\n",
        "a = ((T/Rstar)**2)*(4/(con.G*Mstar))\n",
        "\n",
        "print(a)"
      ],
      "metadata": {
        "id": "Q6wX4LeHjGV6",
        "colab": {
          "base_uri": "https://localhost:8080/"
        },
        "outputId": "ac877be6-dc55-4252-87b2-5a0ba1b0237c"
      },
      "execution_count": 9,
      "outputs": [
        {
          "output_type": "stream",
          "name": "stdout",
          "text": [
            "4.611077222773522e-30\n"
          ]
        }
      ]
    },
    {
      "cell_type": "code",
      "source": [],
      "metadata": {
        "colab": {
          "base_uri": "https://localhost:8080/"
        },
        "id": "TOz4xfu9lX2O",
        "outputId": "a5fd3e71-e2c0-4d4c-b058-c5f13e912ce6"
      },
      "execution_count": 8,
      "outputs": [
        {
          "output_type": "stream",
          "name": "stdout",
          "text": [
            "4.6110772227735216e-30\n"
          ]
        }
      ]
    },
    {
      "cell_type": "code",
      "source": [],
      "metadata": {
        "id": "6xKxE-4AnF1i"
      },
      "execution_count": null,
      "outputs": []
    }
  ]
}